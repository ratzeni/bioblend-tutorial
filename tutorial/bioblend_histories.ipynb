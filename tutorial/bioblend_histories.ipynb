{
 "cells": [
  {
   "cell_type": "markdown",
   "metadata": {},
   "source": [
    "Interacting with histories in BioBlend\n",
    "======================================\n",
    "\n",
    "**You need to insert the API key for your Galaxy server in the cell below**: open the Galaxy server in another browser tab, click on \"User\" on the top menu, then \"API Keys\". Generate an API key if needed, then copy the alphanumeric string and paste it below.\n",
    "\n",
    "The user interacts with a Galaxy server through a `GalaxyInstance` object:"
   ]
  },
  {
   "cell_type": "code",
   "execution_count": 1,
   "metadata": {
    "collapsed": false
   },
   "outputs": [],
   "source": [
    "from __future__ import print_function\n",
    "import bioblend.galaxy\n",
    "\n",
    "server = 'https://usegalaxy.org/'\n",
    "api_key = ''\n",
    "gi = bioblend.galaxy.GalaxyInstance(url=server, key=api_key)"
   ]
  },
  {
   "cell_type": "markdown",
   "metadata": {},
   "source": [
    "All `GalaxyInstance` method calls have the format `client.method()`, where client is the name of the resources you dealing with. For example, the GET request to retrieve all histories owned by a user is:"
   ]
  },
  {
   "cell_type": "code",
   "execution_count": 2,
   "metadata": {
    "collapsed": false
   },
   "outputs": [
    {
     "data": {
      "text/plain": [
       "[{u'annotation': None,\n",
       "  u'deleted': False,\n",
       "  u'id': u'153e591de2140b59',\n",
       "  u'model_class': u'History',\n",
       "  u'name': u'Unnamed history',\n",
       "  u'published': False,\n",
       "  u'purged': False,\n",
       "  u'tags': [],\n",
       "  u'url': u'/api/histories/153e591de2140b59'},\n",
       " {u'annotation': None,\n",
       "  u'deleted': False,\n",
       "  u'id': u'49e446c3d6585583',\n",
       "  u'model_class': u'History',\n",
       "  u'name': u'Unnamed history',\n",
       "  u'published': False,\n",
       "  u'purged': False,\n",
       "  u'tags': [],\n",
       "  u'url': u'/api/histories/49e446c3d6585583'}]"
      ]
     },
     "execution_count": 2,
     "metadata": {},
     "output_type": "execute_result"
    }
   ],
   "source": [
    "gi.histories.get_histories()"
   ]
  },
  {
   "cell_type": "markdown",
   "metadata": {},
   "source": [
    "As you can see, GET requests in BioBlend do not return JSON strings, but **deserialize** them into Python data structures. In particular, `get_` methods return a list of dictionaries.\n",
    "\n",
    "`get_` methods usually have **filtering** capabilities, e.g. it is possible to filter histories **by name**:"
   ]
  },
  {
   "cell_type": "code",
   "execution_count": 17,
   "metadata": {
    "collapsed": false
   },
   "outputs": [
    {
     "data": {
      "text/plain": [
       "[{u'annotation': None,\n",
       "  u'deleted': False,\n",
       "  u'id': u'153e591de2140b59',\n",
       "  u'model_class': u'History',\n",
       "  u'name': u'Unnamed history',\n",
       "  u'published': False,\n",
       "  u'purged': False,\n",
       "  u'tags': [],\n",
       "  u'url': u'/api/histories/153e591de2140b59'},\n",
       " {u'annotation': None,\n",
       "  u'deleted': False,\n",
       "  u'id': u'49e446c3d6585583',\n",
       "  u'model_class': u'History',\n",
       "  u'name': u'Unnamed history',\n",
       "  u'published': False,\n",
       "  u'purged': False,\n",
       "  u'tags': [],\n",
       "  u'url': u'/api/histories/49e446c3d6585583'}]"
      ]
     },
     "execution_count": 17,
     "metadata": {},
     "output_type": "execute_result"
    }
   ],
   "source": [
    "hists = gi.histories.get_histories(name='Unnamed history')\n",
    "hists"
   ]
  },
  {
   "cell_type": "markdown",
   "metadata": {},
   "source": [
    "It is also possible to specify the unique **id** of the resource to retrieve, e.g.:"
   ]
  },
  {
   "cell_type": "code",
   "execution_count": 13,
   "metadata": {
    "collapsed": false
   },
   "outputs": [
    {
     "name": "stdout",
     "output_type": "stream",
     "text": [
      "153e591de2140b59\n"
     ]
    },
    {
     "data": {
      "text/plain": [
       "[{u'annotation': None,\n",
       "  u'deleted': False,\n",
       "  u'id': u'153e591de2140b59',\n",
       "  u'model_class': u'History',\n",
       "  u'name': u'Unnamed history',\n",
       "  u'published': False,\n",
       "  u'purged': False,\n",
       "  u'tags': [],\n",
       "  u'url': u'/api/histories/153e591de2140b59'}]"
      ]
     },
     "execution_count": 13,
     "metadata": {},
     "output_type": "execute_result"
    }
   ],
   "source": [
    "hist0_id = hists[0]['id']\n",
    "print(hist0_id)\n",
    "gi.histories.get_histories(history_id=hist0_id)"
   ]
  },
  {
   "cell_type": "markdown",
   "metadata": {},
   "source": [
    "Please note that independently of which parameters are passed to the `get_` method, it always returns a list.\n",
    "\n",
    "If you are interested in more **details** about a given resource, you can use the `show_` method, e.g. to the get more info for a history:"
   ]
  },
  {
   "cell_type": "code",
   "execution_count": 18,
   "metadata": {
    "collapsed": false
   },
   "outputs": [
    {
     "data": {
      "text/plain": [
       "{u'annotation': None,\n",
       " u'contents_url': u'/api/histories/153e591de2140b59/contents',\n",
       " u'create_time': u'2015-06-19T10:02:53.969620',\n",
       " u'deleted': False,\n",
       " u'empty': False,\n",
       " u'genome_build': u'?',\n",
       " u'id': u'153e591de2140b59',\n",
       " u'importable': False,\n",
       " u'model_class': u'History',\n",
       " u'name': u'Unnamed history',\n",
       " u'published': False,\n",
       " u'purged': False,\n",
       " u'size': 80839,\n",
       " u'slug': None,\n",
       " u'state': u'error',\n",
       " u'state_details': {u'discarded': 0,\n",
       "  u'empty': 0,\n",
       "  u'error': 1,\n",
       "  u'failed_metadata': 0,\n",
       "  u'new': 0,\n",
       "  u'ok': 2,\n",
       "  u'paused': 0,\n",
       "  u'queued': 0,\n",
       "  u'running': 0,\n",
       "  u'setting_metadata': 0,\n",
       "  u'upload': 0},\n",
       " u'state_ids': {u'discarded': [],\n",
       "  u'empty': [],\n",
       "  u'error': [u'bbd44e69cb8906b503f45dc50d66b283'],\n",
       "  u'failed_metadata': [],\n",
       "  u'new': [],\n",
       "  u'ok': [u'bbd44e69cb8906b58bced975c2813624',\n",
       "   u'bbd44e69cb8906b5e70457408d04ea9c'],\n",
       "  u'paused': [],\n",
       "  u'queued': [],\n",
       "  u'running': [],\n",
       "  u'setting_metadata': [],\n",
       "  u'upload': []},\n",
       " u'tags': [],\n",
       " u'update_time': u'2015-06-30T11:26:25.048700',\n",
       " u'url': u'/api/histories/153e591de2140b59',\n",
       " u'user_id': u'1c510fef372551ec',\n",
       " u'username_and_slug': None}"
      ]
     },
     "execution_count": 18,
     "metadata": {},
     "output_type": "execute_result"
    }
   ],
   "source": [
    "gi.histories.show_history(history_id=hist0_id)"
   ]
  },
  {
   "cell_type": "markdown",
   "metadata": {},
   "source": [
    "To get the list of **datasets contained** in a history, simply add `contents=True` to the previous call."
   ]
  },
  {
   "cell_type": "code",
   "execution_count": 20,
   "metadata": {
    "collapsed": false
   },
   "outputs": [
    {
     "data": {
      "text/plain": [
       "[{u'dataset_id': u'bbd44e69cb8906b58136996268e6636d',\n",
       "  u'deleted': False,\n",
       "  u'extension': u'fastqsanger',\n",
       "  u'hid': 1,\n",
       "  u'history_content_type': u'dataset',\n",
       "  u'history_id': u'153e591de2140b59',\n",
       "  u'id': u'bbd44e69cb8906b58bced975c2813624',\n",
       "  u'name': u'bwa-mem-fastq1.fq',\n",
       "  u'purged': False,\n",
       "  u'state': u'ok',\n",
       "  u'type': u'file',\n",
       "  u'type_id': u'dataset-bbd44e69cb8906b58bced975c2813624',\n",
       "  u'url': u'/api/histories/153e591de2140b59/contents/bbd44e69cb8906b58bced975c2813624',\n",
       "  u'visible': True},\n",
       " {u'dataset_id': u'bbd44e69cb8906b599a64556dc6d4e4d',\n",
       "  u'deleted': False,\n",
       "  u'extension': u'fasta',\n",
       "  u'hid': 2,\n",
       "  u'history_content_type': u'dataset',\n",
       "  u'history_id': u'153e591de2140b59',\n",
       "  u'id': u'bbd44e69cb8906b5e70457408d04ea9c',\n",
       "  u'name': u'FASTQ to FASTA on data 1',\n",
       "  u'purged': False,\n",
       "  u'state': u'ok',\n",
       "  u'type': u'file',\n",
       "  u'type_id': u'dataset-bbd44e69cb8906b5e70457408d04ea9c',\n",
       "  u'url': u'/api/histories/153e591de2140b59/contents/bbd44e69cb8906b5e70457408d04ea9c',\n",
       "  u'visible': True},\n",
       " {u'dataset_id': u'bbd44e69cb8906b5572646db41e7e4be',\n",
       "  u'deleted': False,\n",
       "  u'extension': u'sam',\n",
       "  u'hid': 3,\n",
       "  u'history_content_type': u'dataset',\n",
       "  u'history_id': u'153e591de2140b59',\n",
       "  u'id': u'bbd44e69cb8906b503f45dc50d66b283',\n",
       "  u'name': u'Lastz on data 2: mapped reads',\n",
       "  u'purged': False,\n",
       "  u'state': u'error',\n",
       "  u'type': u'file',\n",
       "  u'type_id': u'dataset-bbd44e69cb8906b503f45dc50d66b283',\n",
       "  u'url': u'/api/histories/153e591de2140b59/contents/bbd44e69cb8906b503f45dc50d66b283',\n",
       "  u'visible': True}]"
      ]
     },
     "execution_count": 20,
     "metadata": {},
     "output_type": "execute_result"
    }
   ],
   "source": [
    "hdas = gi.histories.show_history(history_id=hist0_id, contents=True)\n",
    "hdas"
   ]
  },
  {
   "cell_type": "markdown",
   "metadata": {},
   "source": [
    "To get the details about one dataset, you can either continue to use the `histories` controller:"
   ]
  },
  {
   "cell_type": "code",
   "execution_count": 21,
   "metadata": {
    "collapsed": false
   },
   "outputs": [
    {
     "name": "stdout",
     "output_type": "stream",
     "text": [
      "bbd44e69cb8906b58bced975c2813624\n"
     ]
    },
    {
     "data": {
      "text/plain": [
       "{u'accessible': True,\n",
       " u'annotation': None,\n",
       " u'api_type': u'file',\n",
       " u'create_time': u'2015-06-23T14:35:29.832099',\n",
       " u'creating_job': u'95f9b8054e5659b0',\n",
       " u'data_type': u'galaxy.datatypes.sequence.FastqSanger',\n",
       " u'dataset_id': u'bbd44e69cb8906b58136996268e6636d',\n",
       " u'deleted': False,\n",
       " u'display_apps': [],\n",
       " u'display_types': [],\n",
       " u'download_url': u'/api/histories/153e591de2140b59/contents/bbd44e69cb8906b58bced975c2813624/display',\n",
       " u'extension': u'fastqsanger',\n",
       " u'file_ext': u'fastqsanger',\n",
       " u'file_size': 55247,\n",
       " u'genome_build': u'?',\n",
       " u'hda_ldda': u'hda',\n",
       " u'hid': 1,\n",
       " u'history_content_type': u'dataset',\n",
       " u'history_id': u'153e591de2140b59',\n",
       " u'id': u'bbd44e69cb8906b58bced975c2813624',\n",
       " u'meta_files': [],\n",
       " u'metadata_data_lines': 400,\n",
       " u'metadata_dbkey': u'?',\n",
       " u'metadata_sequences': 100,\n",
       " u'misc_blurb': u'100 sequences',\n",
       " u'misc_info': u'uploaded fastq file',\n",
       " u'model_class': u'HistoryDatasetAssociation',\n",
       " u'name': u'bwa-mem-fastq1.fq',\n",
       " u'peek': u'<table cellspacing=\"0\" cellpadding=\"3\"><tr><td>@M01368:8:000000000-A3GHV:1:1101:6911:8255/1</td></tr><tr><td>ATCTGGTTCCTACTTCAGGGCCATAAAACCTAAATAGCCCACACGTTCCCCTTAAATAAGACATCACGATGGATCACAGGTCTATCACCCTATTAACCACTCACGGGAGCTCTCCATGCATTTGGTATTTTCGTCTGGGGGGTGTGCACGCGATAGCATTGCGAGACGCTGGAGCCGGAGCACCCTATGTCGCAGTATCTGTCTTTGATTCCTGCCTCATCCTATTATTTATCGCACCTACGTTCAATATT</td></tr><tr><td>+</td></tr><tr><td>BCCCCFFFFFFFGGGGGGGGGGGHHHHGHGHHHHHHHHHGGGGGGHHHHGHHHHHHHHHHGHHHHHHGGHGGHHHGHHHHFHHGHHHHHHHHHGHEHEFFGHHEGGCEFGGFHHHBGHHGHHHHGHFHHHGHGHGHGGCDFDDACGGGGGGGAAFFFFFFFFFBAFFFFFB;FFFFFFADDFFFFFFFFFFEFFFFFFFFFFBFFFFFFFFFFFFFFEFFFFFFFFBFEFFFFEFE;DFFFDFBFF/9BFB</td></tr><tr><td>@M01368:8:000000000-A3GHV:1:1101:14518:9998/1</td></tr><tr><td>GTTATTATTATGTCCTACAAGCATTAATTAATTAACACACTTTAGTAAGTATGTTCGCCTGTAATATTGAACGTAGGTGCGATAAATAATAGGATGAGGCAGGAATCAAAGACAGATACTGCGACATAGGGTGCTCCGGCTCCAGCGTCTCGCAATGCTATCGCGTGCACACCCCCCAGACGAAAATACCAAATGCATGGAGAGCTCCCGTGAGTGGTTAATAGGGGGATAGACCTGTGATCCATCGTGAT</td></tr></table>',\n",
       " u'purged': False,\n",
       " u'rerunnable': False,\n",
       " u'resubmitted': False,\n",
       " u'state': u'ok',\n",
       " u'tags': [],\n",
       " u'type': u'file',\n",
       " u'type_id': u'dataset-bbd44e69cb8906b58bced975c2813624',\n",
       " u'update_time': u'2015-06-23T14:40:51.433550',\n",
       " u'url': u'/api/histories/153e591de2140b59/contents/bbd44e69cb8906b58bced975c2813624',\n",
       " u'uuid': u'b7f0a37f-0134-4925-83ce-2bef7f394ce6',\n",
       " u'visible': True,\n",
       " u'visualizations': [{u'embeddable': False,\n",
       "   u'href': u'/plugins/visualizations/graphviz/show?dataset_id=bbd44e69cb8906b58bced975c2813624',\n",
       "   u'html': u'Graph Visualization',\n",
       "   u'target': u'galaxy_main'},\n",
       "  {u'embeddable': False,\n",
       "   u'href': u'/plugins/interactive_environments/jupyter/show?dataset_id=bbd44e69cb8906b58bced975c2813624',\n",
       "   u'html': u'Jupyter (Programming Environment)',\n",
       "   u'target': u'galaxy_main'}]}"
      ]
     },
     "execution_count": 21,
     "metadata": {},
     "output_type": "execute_result"
    }
   ],
   "source": [
    "hda0_id = hdas[0]['id']\n",
    "print(hda0_id)\n",
    "gi.histories.show_dataset(hist0_id, hda0_id)"
   ]
  },
  {
   "cell_type": "markdown",
   "metadata": {},
   "source": [
    "Or directly use the `datasets` controller, without having to specify the history id:"
   ]
  },
  {
   "cell_type": "code",
   "execution_count": 26,
   "metadata": {
    "collapsed": false
   },
   "outputs": [
    {
     "data": {
      "text/plain": [
       "{u'accessible': True,\n",
       " u'annotation': None,\n",
       " u'api_type': u'file',\n",
       " u'create_time': u'2015-06-23T14:35:29.832099',\n",
       " u'creating_job': u'95f9b8054e5659b0',\n",
       " u'data_type': u'galaxy.datatypes.sequence.FastqSanger',\n",
       " u'dataset_id': u'bbd44e69cb8906b58136996268e6636d',\n",
       " u'deleted': False,\n",
       " u'display_apps': [],\n",
       " u'display_types': [],\n",
       " u'download_url': u'/api/histories/153e591de2140b59/contents/bbd44e69cb8906b58bced975c2813624/display',\n",
       " u'extension': u'fastqsanger',\n",
       " u'file_ext': u'fastqsanger',\n",
       " u'file_size': 55247,\n",
       " u'genome_build': u'?',\n",
       " u'hda_ldda': u'hda',\n",
       " u'hid': 1,\n",
       " u'history_content_type': u'dataset',\n",
       " u'history_id': u'153e591de2140b59',\n",
       " u'id': u'bbd44e69cb8906b58bced975c2813624',\n",
       " u'meta_files': [],\n",
       " u'metadata_data_lines': 400,\n",
       " u'metadata_dbkey': u'?',\n",
       " u'metadata_sequences': 100,\n",
       " u'misc_blurb': u'100 sequences',\n",
       " u'misc_info': u'uploaded fastq file',\n",
       " u'model_class': u'HistoryDatasetAssociation',\n",
       " u'name': u'bwa-mem-fastq1.fq',\n",
       " u'peek': u'<table cellspacing=\"0\" cellpadding=\"3\"><tr><td>@M01368:8:000000000-A3GHV:1:1101:6911:8255/1</td></tr><tr><td>ATCTGGTTCCTACTTCAGGGCCATAAAACCTAAATAGCCCACACGTTCCCCTTAAATAAGACATCACGATGGATCACAGGTCTATCACCCTATTAACCACTCACGGGAGCTCTCCATGCATTTGGTATTTTCGTCTGGGGGGTGTGCACGCGATAGCATTGCGAGACGCTGGAGCCGGAGCACCCTATGTCGCAGTATCTGTCTTTGATTCCTGCCTCATCCTATTATTTATCGCACCTACGTTCAATATT</td></tr><tr><td>+</td></tr><tr><td>BCCCCFFFFFFFGGGGGGGGGGGHHHHGHGHHHHHHHHHGGGGGGHHHHGHHHHHHHHHHGHHHHHHGGHGGHHHGHHHHFHHGHHHHHHHHHGHEHEFFGHHEGGCEFGGFHHHBGHHGHHHHGHFHHHGHGHGHGGCDFDDACGGGGGGGAAFFFFFFFFFBAFFFFFB;FFFFFFADDFFFFFFFFFFEFFFFFFFFFFBFFFFFFFFFFFFFFEFFFFFFFFBFEFFFFEFE;DFFFDFBFF/9BFB</td></tr><tr><td>@M01368:8:000000000-A3GHV:1:1101:14518:9998/1</td></tr><tr><td>GTTATTATTATGTCCTACAAGCATTAATTAATTAACACACTTTAGTAAGTATGTTCGCCTGTAATATTGAACGTAGGTGCGATAAATAATAGGATGAGGCAGGAATCAAAGACAGATACTGCGACATAGGGTGCTCCGGCTCCAGCGTCTCGCAATGCTATCGCGTGCACACCCCCCAGACGAAAATACCAAATGCATGGAGAGCTCCCGTGAGTGGTTAATAGGGGGATAGACCTGTGATCCATCGTGAT</td></tr></table>',\n",
       " u'purged': False,\n",
       " u'rerunnable': False,\n",
       " u'resubmitted': False,\n",
       " u'state': u'ok',\n",
       " u'tags': [],\n",
       " u'type': u'file',\n",
       " u'type_id': u'dataset-bbd44e69cb8906b58bced975c2813624',\n",
       " u'update_time': u'2015-06-23T14:40:51.433550',\n",
       " u'url': u'/api/histories/153e591de2140b59/contents/bbd44e69cb8906b58bced975c2813624',\n",
       " u'uuid': u'b7f0a37f-0134-4925-83ce-2bef7f394ce6',\n",
       " u'visible': True,\n",
       " u'visualizations': [{u'embeddable': False,\n",
       "   u'href': u'/plugins/visualizations/graphviz/show?dataset_id=bbd44e69cb8906b58bced975c2813624',\n",
       "   u'html': u'Graph Visualization',\n",
       "   u'target': u'galaxy_main'},\n",
       "  {u'embeddable': False,\n",
       "   u'href': u'/plugins/interactive_environments/jupyter/show?dataset_id=bbd44e69cb8906b58bced975c2813624',\n",
       "   u'html': u'Jupyter (Programming Environment)',\n",
       "   u'target': u'galaxy_main'}]}"
      ]
     },
     "execution_count": 26,
     "metadata": {},
     "output_type": "execute_result"
    }
   ],
   "source": [
    "gi.datasets.show_dataset(hda0_id)"
   ]
  },
  {
   "cell_type": "markdown",
   "metadata": {},
   "source": [
    "**New resources** are created with `create_` methods, e.g. to create a new history:"
   ]
  },
  {
   "cell_type": "code",
   "execution_count": 31,
   "metadata": {
    "collapsed": false
   },
   "outputs": [
    {
     "data": {
      "text/plain": [
       "{u'annotation': None,\n",
       " u'contents_url': u'/api/histories/5e427b4e15458850/contents',\n",
       " u'create_time': u'2015-07-01T11:24:03.697023',\n",
       " u'deleted': False,\n",
       " u'empty': True,\n",
       " u'genome_build': None,\n",
       " u'id': u'5e427b4e15458850',\n",
       " u'importable': False,\n",
       " u'model_class': u'History',\n",
       " u'name': u'New history',\n",
       " u'published': False,\n",
       " u'purged': False,\n",
       " u'size': 0,\n",
       " u'slug': None,\n",
       " u'state': u'new',\n",
       " u'state_details': {u'discarded': 0,\n",
       "  u'empty': 0,\n",
       "  u'error': 0,\n",
       "  u'failed_metadata': 0,\n",
       "  u'new': 0,\n",
       "  u'ok': 0,\n",
       "  u'paused': 0,\n",
       "  u'queued': 0,\n",
       "  u'running': 0,\n",
       "  u'setting_metadata': 0,\n",
       "  u'upload': 0},\n",
       " u'state_ids': {u'discarded': [],\n",
       "  u'empty': [],\n",
       "  u'error': [],\n",
       "  u'failed_metadata': [],\n",
       "  u'new': [],\n",
       "  u'ok': [],\n",
       "  u'paused': [],\n",
       "  u'queued': [],\n",
       "  u'running': [],\n",
       "  u'setting_metadata': [],\n",
       "  u'upload': []},\n",
       " u'tags': [],\n",
       " u'update_time': u'2015-07-01T11:24:03.697045',\n",
       " u'url': u'/api/histories/5e427b4e15458850',\n",
       " u'user_id': u'1c510fef372551ec',\n",
       " u'username_and_slug': None}"
      ]
     },
     "execution_count": 31,
     "metadata": {},
     "output_type": "execute_result"
    }
   ],
   "source": [
    "new_hist = gi.histories.create_history(name='New history')\n",
    "new_hist"
   ]
  },
  {
   "cell_type": "markdown",
   "metadata": {},
   "source": [
    "As you can see, to make POST requests in BioBlend it is **not necessary to serialize data**, you just pass them explicitly as parameters.\n",
    "\n",
    "To **update** a resource, use the `update_` method, e.g. to change the history name:"
   ]
  },
  {
   "cell_type": "code",
   "execution_count": 33,
   "metadata": {
    "collapsed": false
   },
   "outputs": [
    {
     "data": {
      "text/plain": [
       "200"
      ]
     },
     "execution_count": 33,
     "metadata": {},
     "output_type": "execute_result"
    }
   ],
   "source": [
    "gi.histories.update_history(new_hist['id'], name='Updated history')"
   ]
  },
  {
   "cell_type": "markdown",
   "metadata": {},
   "source": [
    "The return value of `update_` methods is usually the HTTP status code, 200 meaning a successful update.\n",
    "\n",
    "Finally to **delete** a resource, use the `delete_` method, e.g.:"
   ]
  },
  {
   "cell_type": "code",
   "execution_count": 32,
   "metadata": {
    "collapsed": false
   },
   "outputs": [],
   "source": [
    "gi.histories.delete_history(new_hist['id']);"
   ]
  }
 ],
 "metadata": {
  "kernelspec": {
   "display_name": "Python 2",
   "language": "python",
   "name": "python2"
  },
  "language_info": {
   "codemirror_mode": {
    "name": "ipython",
    "version": 2
   },
   "file_extension": ".py",
   "mimetype": "text/x-python",
   "name": "python",
   "nbconvert_exporter": "python",
   "pygments_lexer": "ipython2",
   "version": "2.7.6"
  }
 },
 "nbformat": 4,
 "nbformat_minor": 0
}
