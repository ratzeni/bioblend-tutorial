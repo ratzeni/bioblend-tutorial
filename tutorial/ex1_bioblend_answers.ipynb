{
 "cells": [
  {
   "cell_type": "markdown",
   "metadata": {},
   "source": [
    "Exercise 1 - Answers for BioBlend\n",
    "=================================\n",
    "\n",
    "**Goal**: Upload a file to a new history, import a workflow and run it on the uploaded dataset.\n",
    "\n",
    "1) Create a `GalaxyInstance` object."
   ]
  },
  {
   "cell_type": "code",
   "execution_count": 1,
   "metadata": {
    "collapsed": false
   },
   "outputs": [],
   "source": [
    "from __future__ import print_function\n",
    "import bioblend.galaxy\n",
    "\n",
    "server = 'https://usegalaxy.org/'\n",
    "api_key = ''\n",
    "gi = bioblend.galaxy.GalaxyInstance(url=server, key=api_key)"
   ]
  },
  {
   "cell_type": "markdown",
   "metadata": {},
   "source": [
    "2) Create a new Galaxy history."
   ]
  },
  {
   "cell_type": "code",
   "execution_count": 2,
   "metadata": {
    "collapsed": false
   },
   "outputs": [
    {
     "data": {
      "text/plain": [
       "{u'annotation': None,\n",
       " u'contents_url': u'/api/histories/11c30c7aa529a17b/contents',\n",
       " u'create_time': u'2015-07-03T17:51:31.246097',\n",
       " u'deleted': False,\n",
       " u'empty': True,\n",
       " u'genome_build': None,\n",
       " u'id': u'11c30c7aa529a17b',\n",
       " u'importable': False,\n",
       " u'model_class': u'History',\n",
       " u'name': u'New history',\n",
       " u'published': False,\n",
       " u'purged': False,\n",
       " u'size': 0,\n",
       " u'slug': None,\n",
       " u'state': u'new',\n",
       " u'state_details': {u'discarded': 0,\n",
       "  u'empty': 0,\n",
       "  u'error': 0,\n",
       "  u'failed_metadata': 0,\n",
       "  u'new': 0,\n",
       "  u'ok': 0,\n",
       "  u'paused': 0,\n",
       "  u'queued': 0,\n",
       "  u'running': 0,\n",
       "  u'setting_metadata': 0,\n",
       "  u'upload': 0},\n",
       " u'state_ids': {u'discarded': [],\n",
       "  u'empty': [],\n",
       "  u'error': [],\n",
       "  u'failed_metadata': [],\n",
       "  u'new': [],\n",
       "  u'ok': [],\n",
       "  u'paused': [],\n",
       "  u'queued': [],\n",
       "  u'running': [],\n",
       "  u'setting_metadata': [],\n",
       "  u'upload': []},\n",
       " u'tags': [],\n",
       " u'update_time': u'2015-07-03T17:51:31.246126',\n",
       " u'url': u'/api/histories/11c30c7aa529a17b',\n",
       " u'user_id': u'1c510fef372551ec',\n",
       " u'username_and_slug': None}"
      ]
     },
     "execution_count": 2,
     "metadata": {},
     "output_type": "execute_result"
    }
   ],
   "source": [
    "new_hist = gi.histories.create_history(name='New history')\n",
    "new_hist"
   ]
  },
  {
   "cell_type": "markdown",
   "metadata": {},
   "source": [
    "3) **Upload** the local file \"~/bioblend-tutorial/test-data/1.txt\" to a new dataset in the created history using `tools.upload_file()` ."
   ]
  },
  {
   "cell_type": "code",
   "execution_count": 3,
   "metadata": {
    "collapsed": false
   },
   "outputs": [
    {
     "data": {
      "text/plain": [
       "{u'implicit_collections': [],\n",
       " u'jobs': [{u'create_time': u'2015-07-03T17:51:32.928784',\n",
       "   u'exit_code': None,\n",
       "   u'id': u'bbd44e69cb8906b54cf342f14136a61a',\n",
       "   u'model_class': u'Job',\n",
       "   u'state': u'new',\n",
       "   u'tool_id': u'upload1',\n",
       "   u'update_time': u'2015-07-03T17:51:33.187627'}],\n",
       " u'output_collections': [],\n",
       " u'outputs': [{u'create_time': u'2015-07-03T17:51:32.672055',\n",
       "   u'data_type': u'galaxy.datatypes.data.Text',\n",
       "   u'deleted': False,\n",
       "   u'file_ext': u'auto',\n",
       "   u'file_size': 0,\n",
       "   u'genome_build': u'?',\n",
       "   u'hda_ldda': u'hda',\n",
       "   u'hid': 1,\n",
       "   u'history_content_type': u'dataset',\n",
       "   u'history_id': u'11c30c7aa529a17b',\n",
       "   u'id': u'bbd44e69cb8906b5df1a8297632b1190',\n",
       "   u'metadata_data_lines': None,\n",
       "   u'metadata_dbkey': u'?',\n",
       "   u'misc_blurb': None,\n",
       "   u'misc_info': None,\n",
       "   u'model_class': u'HistoryDatasetAssociation',\n",
       "   u'name': u'1.txt',\n",
       "   u'output_name': u'output0',\n",
       "   u'peek': u'<table cellspacing=\"0\" cellpadding=\"3\"></table>',\n",
       "   u'purged': False,\n",
       "   u'state': u'queued',\n",
       "   u'tags': [],\n",
       "   u'update_time': u'2015-07-03T17:51:32.871314',\n",
       "   u'uuid': u'f4e5c10f-8687-4d0a-819f-3d57177b7779',\n",
       "   u'visible': True}]}"
      ]
     },
     "execution_count": 3,
     "metadata": {},
     "output_type": "execute_result"
    }
   ],
   "source": [
    "import os\n",
    "ret = gi.tools.upload_file(os.path.join(os.environ['HOME'], \"bioblend-tutorial/test-data/1.txt\"), new_hist['id'])\n",
    "ret"
   ]
  },
  {
   "cell_type": "markdown",
   "metadata": {},
   "source": [
    "4) Find the new uploaded dataset, either from the dict returned by `tools.upload_file()` or from the history contents."
   ]
  },
  {
   "cell_type": "code",
   "execution_count": 4,
   "metadata": {
    "collapsed": false
   },
   "outputs": [
    {
     "data": {
      "text/plain": [
       "{u'create_time': u'2015-07-03T17:51:32.672055',\n",
       " u'data_type': u'galaxy.datatypes.data.Text',\n",
       " u'deleted': False,\n",
       " u'file_ext': u'auto',\n",
       " u'file_size': 0,\n",
       " u'genome_build': u'?',\n",
       " u'hda_ldda': u'hda',\n",
       " u'hid': 1,\n",
       " u'history_content_type': u'dataset',\n",
       " u'history_id': u'11c30c7aa529a17b',\n",
       " u'id': u'bbd44e69cb8906b5df1a8297632b1190',\n",
       " u'metadata_data_lines': None,\n",
       " u'metadata_dbkey': u'?',\n",
       " u'misc_blurb': None,\n",
       " u'misc_info': None,\n",
       " u'model_class': u'HistoryDatasetAssociation',\n",
       " u'name': u'1.txt',\n",
       " u'output_name': u'output0',\n",
       " u'peek': u'<table cellspacing=\"0\" cellpadding=\"3\"></table>',\n",
       " u'purged': False,\n",
       " u'state': u'queued',\n",
       " u'tags': [],\n",
       " u'update_time': u'2015-07-03T17:51:32.871314',\n",
       " u'uuid': u'f4e5c10f-8687-4d0a-819f-3d57177b7779',\n",
       " u'visible': True}"
      ]
     },
     "execution_count": 4,
     "metadata": {},
     "output_type": "execute_result"
    }
   ],
   "source": [
    "hda = ret['outputs'][0]\n",
    "hda"
   ]
  },
  {
   "cell_type": "markdown",
   "metadata": {},
   "source": [
    "5) **Import a workflow** from the local file \"~/bioblend-tutorial/test-data/convert_to_tab.ga\" using `workflows.import_workflow_from_local_path()` ."
   ]
  },
  {
   "cell_type": "code",
   "execution_count": 5,
   "metadata": {
    "collapsed": false
   },
   "outputs": [
    {
     "data": {
      "text/plain": [
       "{u'deleted': False,\n",
       " u'id': u'c0b087aeaedb108e',\n",
       " u'latest_workflow_uuid': u'814e6545-db9e-4dc0-b9c4-1c0f9ed68910',\n",
       " u'model_class': u'StoredWorkflow',\n",
       " u'name': u'Convert to tab (imported from API)',\n",
       " u'published': False,\n",
       " u'tags': [],\n",
       " u'url': u'/api/workflows/c0b087aeaedb108e'}"
      ]
     },
     "execution_count": 5,
     "metadata": {},
     "output_type": "execute_result"
    }
   ],
   "source": [
    "wf = gi.workflows.import_workflow_from_local_path(os.path.join(os.environ['HOME'], 'bioblend-tutorial/test-data/convert_to_tab.ga'))\n",
    "wf"
   ]
  },
  {
   "cell_type": "markdown",
   "metadata": {},
   "source": [
    "6) View the details of the imported workflow using `workflows.show_workflow()` ."
   ]
  },
  {
   "cell_type": "code",
   "execution_count": 6,
   "metadata": {
    "collapsed": false
   },
   "outputs": [
    {
     "data": {
      "text/plain": [
       "{u'annotation': None,\n",
       " u'deleted': False,\n",
       " u'id': u'c0b087aeaedb108e',\n",
       " u'inputs': {u'0': {u'label': u'Input Dataset',\n",
       "   u'uuid': u'671bca4e-0b76-4a6f-a0a2-70219df56576',\n",
       "   u'value': u''}},\n",
       " u'latest_workflow_uuid': u'814e6545-db9e-4dc0-b9c4-1c0f9ed68910',\n",
       " u'model_class': u'StoredWorkflow',\n",
       " u'name': u'Convert to tab (imported from API)',\n",
       " u'owner': u'nsoranzo',\n",
       " u'published': False,\n",
       " u'steps': {u'0': {u'annotation': None,\n",
       "   u'id': 0,\n",
       "   u'input_steps': {},\n",
       "   u'tool_id': None,\n",
       "   u'tool_inputs': {u'name': u'Input Dataset'},\n",
       "   u'tool_version': None,\n",
       "   u'type': u'data_input'},\n",
       "  u'1': {u'annotation': None,\n",
       "   u'id': 1,\n",
       "   u'input_steps': {u'input': {u'source_step': 0, u'step_output': u'output'}},\n",
       "   u'tool_id': u'Convert characters1',\n",
       "   u'tool_inputs': {u'condense': u'\"true\"',\n",
       "    u'convert_from': u'\"s\"',\n",
       "    u'input': u'null',\n",
       "    u'strip': u'\"true\"'},\n",
       "   u'tool_version': u'1.0.0',\n",
       "   u'type': u'tool'}},\n",
       " u'tags': [],\n",
       " u'url': u'/api/workflows/c0b087aeaedb108e'}"
      ]
     },
     "execution_count": 6,
     "metadata": {},
     "output_type": "execute_result"
    }
   ],
   "source": [
    "wf = gi.workflows.show_workflow(wf['id'])\n",
    "wf"
   ]
  },
  {
   "cell_type": "markdown",
   "metadata": {},
   "source": [
    "7) **Run** the imported workflow on the uploaded dataset **inside the same history** using `workflows.run_workflow()` ."
   ]
  },
  {
   "cell_type": "code",
   "execution_count": 7,
   "metadata": {
    "collapsed": false
   },
   "outputs": [
    {
     "name": "stdout",
     "output_type": "stream",
     "text": [
      "[u'0']\n"
     ]
    },
    {
     "data": {
      "text/plain": [
       "{u'history': u'11c30c7aa529a17b',\n",
       " u'history_id': u'11c30c7aa529a17b',\n",
       " u'id': u'50662d1f3aac6f16',\n",
       " u'inputs': {u'0': {u'id': u'bbd44e69cb8906b5df1a8297632b1190',\n",
       "   u'src': u'hda',\n",
       "   u'uuid': u'a2dc75e5-712f-46e0-8a32-459ed0be1cfd'}},\n",
       " u'model_class': u'WorkflowInvocation',\n",
       " u'outputs': [u'bbd44e69cb8906b504d6c6da07ea902a'],\n",
       " u'state': u'scheduled',\n",
       " u'steps': [{u'action': None,\n",
       "   u'id': u'fcd2d95cede0ce6c',\n",
       "   u'job_id': None,\n",
       "   u'model_class': u'WorkflowInvocationStep',\n",
       "   u'order_index': 0,\n",
       "   u'state': None,\n",
       "   u'update_time': u'2015-07-03T17:51:37.238705',\n",
       "   u'workflow_step_id': u'82b4031ac86b08ef',\n",
       "   u'workflow_step_label': None,\n",
       "   u'workflow_step_uuid': u'671bca4e-0b76-4a6f-a0a2-70219df56576'},\n",
       "  {u'action': None,\n",
       "   u'id': u'c63ccf52d966e2c1',\n",
       "   u'job_id': u'bbd44e69cb8906b53db82ac5bde17efa',\n",
       "   u'model_class': u'WorkflowInvocationStep',\n",
       "   u'order_index': 1,\n",
       "   u'state': u'new',\n",
       "   u'update_time': u'2015-07-03T17:51:37.234545',\n",
       "   u'workflow_step_id': u'970ff4282342bbcc',\n",
       "   u'workflow_step_label': None,\n",
       "   u'workflow_step_uuid': u'dc5195e6-bf5e-4d1e-8868-21efae3ddc9c'}],\n",
       " u'update_time': u'2015-07-03T17:51:37.230698',\n",
       " u'uuid': u'25fc8454-21ac-11e5-b31a-005056a51846',\n",
       " u'workflow_id': u'3f2252f8d42afd09'}"
      ]
     },
     "execution_count": 7,
     "metadata": {},
     "output_type": "execute_result"
    }
   ],
   "source": [
    "input_step_ids = wf['inputs'].keys()\n",
    "print(input_step_ids)\n",
    "dataset_map = {input_step_ids[0]: {'id': hda['id'], 'src': 'hda'}}\n",
    "ret = gi.workflows.run_workflow(wf['id'], dataset_map=dataset_map, history_id=new_hist['id'])\n",
    "ret"
   ]
  },
  {
   "cell_type": "markdown",
   "metadata": {},
   "source": [
    "8) View the results on the Galaxy server with your web browser."
   ]
  }
 ],
 "metadata": {
  "kernelspec": {
   "display_name": "Python 2",
   "language": "python",
   "name": "python2"
  },
  "language_info": {
   "codemirror_mode": {
    "name": "ipython",
    "version": 2
   },
   "file_extension": ".py",
   "mimetype": "text/x-python",
   "name": "python",
   "nbconvert_exporter": "python",
   "pygments_lexer": "ipython2",
   "version": "2.7.6"
  }
 },
 "nbformat": 4,
 "nbformat_minor": 0
}
