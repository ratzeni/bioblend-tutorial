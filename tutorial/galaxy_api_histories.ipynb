{
 "cells": [
  {
   "cell_type": "markdown",
   "metadata": {},
   "source": [
    "Interacting with histories in Galaxy API\n",
    "========================================\n",
    "\n",
    "We are going to use the [requests](http://python-requests.org/) Python library to communicate via HTTP with the Galaxy server. To start, let's define the connection parameters.\n",
    "\n",
    "**You need to insert the API key for your Galaxy server in the cell below**: open the Galaxy server in another browser tab, click on \"User\" on the top menu, then \"API Keys\". Generate an API key if needed, then copy the alphanumeric string and paste it below."
   ]
  },
  {
   "cell_type": "code",
   "execution_count": 43,
   "metadata": {
    "collapsed": false
   },
   "outputs": [
    {
     "data": {
      "text/plain": [
       "'https://usegalaxy.org/api'"
      ]
     },
     "execution_count": 43,
     "metadata": {},
     "output_type": "execute_result"
    }
   ],
   "source": [
    "from __future__ import print_function\n",
    "import json\n",
    "from urlparse import urljoin\n",
    "import requests\n",
    "\n",
    "server = 'https://usegalaxy.org/'\n",
    "api_key = ''\n",
    "base_url = urljoin(server, 'api')\n",
    "base_url"
   ]
  },
  {
   "cell_type": "markdown",
   "metadata": {},
   "source": [
    "We now make a GET request to retrieve all histories owned by a user:"
   ]
  },
  {
   "cell_type": "code",
   "execution_count": 44,
   "metadata": {
    "collapsed": false
   },
   "outputs": [
    {
     "name": "stdout",
     "output_type": "stream",
     "text": [
      "[{\"name\": \"New history\", \"tags\": [], \"deleted\": false, \"purged\": false, \"annotation\": null, \"url\": \"/api/histories/effec70bec8ba12c\", \"published\": false, \"model_class\": \"History\", \"id\": \"effec70bec8ba12c\"}, {\"name\": \"Unnamed history\", \"tags\": [], \"deleted\": false, \"purged\": false, \"annotation\": null, \"url\": \"/api/histories/49e446c3d6585583\", \"published\": false, \"model_class\": \"History\", \"id\": \"49e446c3d6585583\"}]\n"
     ]
    },
    {
     "data": {
      "text/plain": [
       "[{u'annotation': None,\n",
       "  u'deleted': False,\n",
       "  u'id': u'effec70bec8ba12c',\n",
       "  u'model_class': u'History',\n",
       "  u'name': u'New history',\n",
       "  u'published': False,\n",
       "  u'purged': False,\n",
       "  u'tags': [],\n",
       "  u'url': u'/api/histories/effec70bec8ba12c'},\n",
       " {u'annotation': None,\n",
       "  u'deleted': False,\n",
       "  u'id': u'49e446c3d6585583',\n",
       "  u'model_class': u'History',\n",
       "  u'name': u'Unnamed history',\n",
       "  u'published': False,\n",
       "  u'purged': False,\n",
       "  u'tags': [],\n",
       "  u'url': u'/api/histories/49e446c3d6585583'}]"
      ]
     },
     "execution_count": 44,
     "metadata": {},
     "output_type": "execute_result"
    }
   ],
   "source": [
    "params = {'key': api_key}\n",
    "r = requests.get(base_url + '/histories', params)\n",
    "print(r.text)\n",
    "hists = r.json()\n",
    "hists"
   ]
  },
  {
   "cell_type": "markdown",
   "metadata": {},
   "source": [
    "As you can see, GET requests in Galaxy API return JSON strings, which need to be **deserialized** into Python data structures. In particular, GETting a resource collection returns a list of dictionaries.\n",
    "\n",
    "There is no readily-available filtering capability, but it's not difficult to filter histories **by name**:"
   ]
  },
  {
   "cell_type": "code",
   "execution_count": 45,
   "metadata": {
    "collapsed": false
   },
   "outputs": [
    {
     "data": {
      "text/plain": [
       "[{u'annotation': None,\n",
       "  u'deleted': False,\n",
       "  u'id': u'49e446c3d6585583',\n",
       "  u'model_class': u'History',\n",
       "  u'name': u'Unnamed history',\n",
       "  u'published': False,\n",
       "  u'purged': False,\n",
       "  u'tags': [],\n",
       "  u'url': u'/api/histories/49e446c3d6585583'}]"
      ]
     },
     "execution_count": 45,
     "metadata": {},
     "output_type": "execute_result"
    }
   ],
   "source": [
    "[_ for _ in hists if _['name'] == 'Unnamed history']"
   ]
  },
  {
   "cell_type": "markdown",
   "metadata": {},
   "source": [
    "The dictionaries returned when GETting a resource collection give basic info about each resource, e.g. for a history you have:\n",
    "- `id`: the unique **identifier** of the history, needed for all specific requests about this resource\n",
    "- `name`: the name of this history as given by the user\n",
    "- `deleted`: whether the history has been deleted\n",
    "- `url`: the relative URL to get all info about this resource.\n",
    "\n",
    "If you are interested in more **details** about a given resource, you just need to append its `id` to the previous collection request, e.g. to the get more info for a history:"
   ]
  },
  {
   "cell_type": "code",
   "execution_count": 46,
   "metadata": {
    "collapsed": false
   },
   "outputs": [
    {
     "name": "stdout",
     "output_type": "stream",
     "text": [
      "effec70bec8ba12c\n"
     ]
    },
    {
     "data": {
      "text/plain": [
       "{u'annotation': None,\n",
       " u'contents_url': u'/api/histories/effec70bec8ba12c/contents',\n",
       " u'create_time': u'2015-07-02T11:04:17.100787',\n",
       " u'deleted': False,\n",
       " u'empty': False,\n",
       " u'genome_build': None,\n",
       " u'id': u'effec70bec8ba12c',\n",
       " u'importable': False,\n",
       " u'model_class': u'History',\n",
       " u'name': u'New history',\n",
       " u'published': False,\n",
       " u'purged': False,\n",
       " u'size': 48,\n",
       " u'slug': None,\n",
       " u'state': u'ok',\n",
       " u'state_details': {u'discarded': 0,\n",
       "  u'empty': 0,\n",
       "  u'error': 0,\n",
       "  u'failed_metadata': 0,\n",
       "  u'new': 0,\n",
       "  u'ok': 3,\n",
       "  u'paused': 0,\n",
       "  u'queued': 0,\n",
       "  u'running': 0,\n",
       "  u'setting_metadata': 0,\n",
       "  u'upload': 0},\n",
       " u'state_ids': {u'discarded': [],\n",
       "  u'empty': [],\n",
       "  u'error': [],\n",
       "  u'failed_metadata': [],\n",
       "  u'new': [],\n",
       "  u'ok': [u'bbd44e69cb8906b550f62a0227a2da04',\n",
       "   u'bbd44e69cb8906b544479115d78d7a93',\n",
       "   u'bbd44e69cb8906b50e45a3912d4c471e'],\n",
       "  u'paused': [],\n",
       "  u'queued': [],\n",
       "  u'running': [],\n",
       "  u'setting_metadata': [],\n",
       "  u'upload': []},\n",
       " u'tags': [],\n",
       " u'update_time': u'2015-07-02T15:35:38.834815',\n",
       " u'url': u'/api/histories/effec70bec8ba12c',\n",
       " u'user_id': u'1c510fef372551ec',\n",
       " u'username_and_slug': None}"
      ]
     },
     "execution_count": 46,
     "metadata": {},
     "output_type": "execute_result"
    }
   ],
   "source": [
    "hist0_id = hists[0]['id']\n",
    "print(hist0_id)\n",
    "params = {'key': api_key}\n",
    "r = requests.get(base_url + '/histories/' + hist0_id, params)\n",
    "r.json()"
   ]
  },
  {
   "cell_type": "markdown",
   "metadata": {},
   "source": [
    "As you can see, there are much more entries in the returned dictionary, e.g.:\n",
    "- `create_time`\n",
    "- `size`: disk space used by the history datasets\n",
    "- `state_ids`: ids of datasets in each possible state.\n",
    "\n",
    "To get the list of **datasets contained** in a history, simply append `/contents` to the previous resource request."
   ]
  },
  {
   "cell_type": "code",
   "execution_count": 47,
   "metadata": {
    "collapsed": false
   },
   "outputs": [
    {
     "data": {
      "text/plain": [
       "[{u'dataset_id': u'bbd44e69cb8906b5ab999dca04b8ece0',\n",
       "  u'deleted': False,\n",
       "  u'extension': u'txt',\n",
       "  u'hid': 1,\n",
       "  u'history_content_type': u'dataset',\n",
       "  u'history_id': u'effec70bec8ba12c',\n",
       "  u'id': u'bbd44e69cb8906b550f62a0227a2da04',\n",
       "  u'name': u'1.txt',\n",
       "  u'purged': False,\n",
       "  u'state': u'ok',\n",
       "  u'type': u'file',\n",
       "  u'type_id': u'dataset-bbd44e69cb8906b550f62a0227a2da04',\n",
       "  u'url': u'/api/histories/effec70bec8ba12c/contents/bbd44e69cb8906b550f62a0227a2da04',\n",
       "  u'visible': True},\n",
       " {u'dataset_id': u'bbd44e69cb8906b5333417f7e7c6ca91',\n",
       "  u'deleted': False,\n",
       "  u'extension': u'txt',\n",
       "  u'hid': 2,\n",
       "  u'history_content_type': u'dataset',\n",
       "  u'history_id': u'effec70bec8ba12c',\n",
       "  u'id': u'bbd44e69cb8906b544479115d78d7a93',\n",
       "  u'name': u'1.txt',\n",
       "  u'purged': False,\n",
       "  u'state': u'ok',\n",
       "  u'type': u'file',\n",
       "  u'type_id': u'dataset-bbd44e69cb8906b544479115d78d7a93',\n",
       "  u'url': u'/api/histories/effec70bec8ba12c/contents/bbd44e69cb8906b544479115d78d7a93',\n",
       "  u'visible': True},\n",
       " {u'dataset_id': u'bbd44e69cb8906b522410530cb31d9b0',\n",
       "  u'deleted': False,\n",
       "  u'extension': u'tabular',\n",
       "  u'hid': 3,\n",
       "  u'history_content_type': u'dataset',\n",
       "  u'history_id': u'effec70bec8ba12c',\n",
       "  u'id': u'bbd44e69cb8906b50e45a3912d4c471e',\n",
       "  u'name': u'Convert on data 2',\n",
       "  u'purged': False,\n",
       "  u'state': u'ok',\n",
       "  u'type': u'file',\n",
       "  u'type_id': u'dataset-bbd44e69cb8906b50e45a3912d4c471e',\n",
       "  u'url': u'/api/histories/effec70bec8ba12c/contents/bbd44e69cb8906b50e45a3912d4c471e',\n",
       "  u'visible': True}]"
      ]
     },
     "execution_count": 47,
     "metadata": {},
     "output_type": "execute_result"
    }
   ],
   "source": [
    "params = {'key': api_key}\n",
    "r = requests.get(base_url + '/histories/' + hist0_id + '/contents', params)\n",
    "hdas = r.json()\n",
    "hdas"
   ]
  },
  {
   "cell_type": "markdown",
   "metadata": {},
   "source": [
    "The dictionaries returned when GETting the history content give basic info about each dataset, e.g.: `id`, `name`, `deleted`, `state`, `url`...\n",
    "\n",
    "To get the details about one dataset, you can use either append the dataset `id` to the previous request URL:"
   ]
  },
  {
   "cell_type": "code",
   "execution_count": 48,
   "metadata": {
    "collapsed": false
   },
   "outputs": [
    {
     "name": "stdout",
     "output_type": "stream",
     "text": [
      "bbd44e69cb8906b550f62a0227a2da04\n"
     ]
    },
    {
     "data": {
      "text/plain": [
       "{u'accessible': True,\n",
       " u'annotation': None,\n",
       " u'api_type': u'file',\n",
       " u'create_time': u'2015-07-02T11:08:56.653404',\n",
       " u'creating_job': u'faa39c69e6841f30',\n",
       " u'data_type': u'galaxy.datatypes.data.Text',\n",
       " u'dataset_id': u'bbd44e69cb8906b5ab999dca04b8ece0',\n",
       " u'deleted': False,\n",
       " u'display_apps': [],\n",
       " u'display_types': [],\n",
       " u'download_url': u'/api/histories/effec70bec8ba12c/contents/bbd44e69cb8906b550f62a0227a2da04/display',\n",
       " u'extension': u'txt',\n",
       " u'file_ext': u'txt',\n",
       " u'file_size': 16,\n",
       " u'genome_build': u'?',\n",
       " u'hda_ldda': u'hda',\n",
       " u'hid': 1,\n",
       " u'history_content_type': u'dataset',\n",
       " u'history_id': u'effec70bec8ba12c',\n",
       " u'id': u'bbd44e69cb8906b550f62a0227a2da04',\n",
       " u'meta_files': [],\n",
       " u'metadata_data_lines': 4,\n",
       " u'metadata_dbkey': u'?',\n",
       " u'misc_blurb': u'4 lines',\n",
       " u'misc_info': u'uploaded txt file',\n",
       " u'model_class': u'HistoryDatasetAssociation',\n",
       " u'name': u'1.txt',\n",
       " u'peek': u'<table cellspacing=\"0\" cellpadding=\"3\"><tr><td>1 a</td></tr><tr><td>2 b</td></tr><tr><td>3 c</td></tr><tr><td>4 d</td></tr></table>',\n",
       " u'purged': False,\n",
       " u'rerunnable': False,\n",
       " u'resubmitted': False,\n",
       " u'state': u'ok',\n",
       " u'tags': [],\n",
       " u'type': u'file',\n",
       " u'type_id': u'dataset-bbd44e69cb8906b550f62a0227a2da04',\n",
       " u'update_time': u'2015-07-02T11:09:26.632285',\n",
       " u'url': u'/api/histories/effec70bec8ba12c/contents/bbd44e69cb8906b550f62a0227a2da04',\n",
       " u'uuid': u'0c728ee0-5d3c-4076-9dc5-02c45ff4c1c7',\n",
       " u'visible': True,\n",
       " u'visualizations': [{u'embeddable': False,\n",
       "   u'href': u'/plugins/visualizations/graphviz/show?dataset_id=bbd44e69cb8906b550f62a0227a2da04',\n",
       "   u'html': u'Graph Visualization',\n",
       "   u'target': u'galaxy_main'},\n",
       "  {u'embeddable': False,\n",
       "   u'href': u'/plugins/interactive_environments/jupyter/show?dataset_id=bbd44e69cb8906b550f62a0227a2da04',\n",
       "   u'html': u'Jupyter (Programming Environment)',\n",
       "   u'target': u'galaxy_main'}]}"
      ]
     },
     "execution_count": 48,
     "metadata": {},
     "output_type": "execute_result"
    }
   ],
   "source": [
    "hda0_id = hdas[0]['id']\n",
    "print(hda0_id)\n",
    "params = {'key': api_key}\n",
    "r = requests.get(base_url + '/histories/' + hist0_id + '/contents/' + hda0_id, params)\n",
    "r.json()"
   ]
  },
  {
   "cell_type": "markdown",
   "metadata": {},
   "source": [
    "Or directly use the `datasets` controller, without having to specify the history id:"
   ]
  },
  {
   "cell_type": "code",
   "execution_count": 49,
   "metadata": {
    "collapsed": false
   },
   "outputs": [
    {
     "data": {
      "text/plain": [
       "{u'accessible': True,\n",
       " u'annotation': None,\n",
       " u'api_type': u'file',\n",
       " u'create_time': u'2015-07-02T11:08:56.653404',\n",
       " u'creating_job': u'faa39c69e6841f30',\n",
       " u'data_type': u'galaxy.datatypes.data.Text',\n",
       " u'dataset_id': u'bbd44e69cb8906b5ab999dca04b8ece0',\n",
       " u'deleted': False,\n",
       " u'display_apps': [],\n",
       " u'display_types': [],\n",
       " u'download_url': u'/api/histories/effec70bec8ba12c/contents/bbd44e69cb8906b550f62a0227a2da04/display',\n",
       " u'extension': u'txt',\n",
       " u'file_ext': u'txt',\n",
       " u'file_size': 16,\n",
       " u'genome_build': u'?',\n",
       " u'hda_ldda': u'hda',\n",
       " u'hid': 1,\n",
       " u'history_content_type': u'dataset',\n",
       " u'history_id': u'effec70bec8ba12c',\n",
       " u'id': u'bbd44e69cb8906b550f62a0227a2da04',\n",
       " u'meta_files': [],\n",
       " u'metadata_data_lines': 4,\n",
       " u'metadata_dbkey': u'?',\n",
       " u'misc_blurb': u'4 lines',\n",
       " u'misc_info': u'uploaded txt file',\n",
       " u'model_class': u'HistoryDatasetAssociation',\n",
       " u'name': u'1.txt',\n",
       " u'peek': u'<table cellspacing=\"0\" cellpadding=\"3\"><tr><td>1 a</td></tr><tr><td>2 b</td></tr><tr><td>3 c</td></tr><tr><td>4 d</td></tr></table>',\n",
       " u'purged': False,\n",
       " u'rerunnable': False,\n",
       " u'resubmitted': False,\n",
       " u'state': u'ok',\n",
       " u'tags': [],\n",
       " u'type': u'file',\n",
       " u'type_id': u'dataset-bbd44e69cb8906b550f62a0227a2da04',\n",
       " u'update_time': u'2015-07-02T11:09:26.632285',\n",
       " u'url': u'/api/histories/effec70bec8ba12c/contents/bbd44e69cb8906b550f62a0227a2da04',\n",
       " u'uuid': u'0c728ee0-5d3c-4076-9dc5-02c45ff4c1c7',\n",
       " u'visible': True,\n",
       " u'visualizations': [{u'embeddable': False,\n",
       "   u'href': u'/plugins/visualizations/graphviz/show?dataset_id=bbd44e69cb8906b550f62a0227a2da04',\n",
       "   u'html': u'Graph Visualization',\n",
       "   u'target': u'galaxy_main'},\n",
       "  {u'embeddable': False,\n",
       "   u'href': u'/plugins/interactive_environments/jupyter/show?dataset_id=bbd44e69cb8906b550f62a0227a2da04',\n",
       "   u'html': u'Jupyter (Programming Environment)',\n",
       "   u'target': u'galaxy_main'}]}"
      ]
     },
     "execution_count": 49,
     "metadata": {},
     "output_type": "execute_result"
    }
   ],
   "source": [
    "params = {'key': api_key}\n",
    "r = requests.get(base_url + '/datasets/' + hda0_id, params)\n",
    "r.json()"
   ]
  },
  {
   "cell_type": "markdown",
   "metadata": {},
   "source": [
    "Some of the interesting additional dictionary entries are:\n",
    "- `create_time`\n",
    "- `creating job`: id of the job which created this dataset\n",
    "- `download_url`: URL to download the dataset\n",
    "- `file_ext`: the Galaxy data type of this dataset\n",
    "- `file_size`\n",
    "- `genome_build`: the dbkey.\n",
    "\n",
    "**New resources** are created with POST requests. The uploaded **data needs to be serialized** in a JSON string. For example, to create a new history:"
   ]
  },
  {
   "cell_type": "code",
   "execution_count": 50,
   "metadata": {
    "collapsed": false
   },
   "outputs": [
    {
     "data": {
      "text/plain": [
       "{u'annotation': None,\n",
       " u'contents_url': u'/api/histories/09e9b859888fc439/contents',\n",
       " u'create_time': u'2015-07-03T17:21:19.676537',\n",
       " u'deleted': False,\n",
       " u'empty': True,\n",
       " u'genome_build': None,\n",
       " u'id': u'09e9b859888fc439',\n",
       " u'importable': False,\n",
       " u'model_class': u'History',\n",
       " u'name': u'New history',\n",
       " u'published': False,\n",
       " u'purged': False,\n",
       " u'size': 0,\n",
       " u'slug': None,\n",
       " u'state': u'new',\n",
       " u'state_details': {u'discarded': 0,\n",
       "  u'empty': 0,\n",
       "  u'error': 0,\n",
       "  u'failed_metadata': 0,\n",
       "  u'new': 0,\n",
       "  u'ok': 0,\n",
       "  u'paused': 0,\n",
       "  u'queued': 0,\n",
       "  u'running': 0,\n",
       "  u'setting_metadata': 0,\n",
       "  u'upload': 0},\n",
       " u'state_ids': {u'discarded': [],\n",
       "  u'empty': [],\n",
       "  u'error': [],\n",
       "  u'failed_metadata': [],\n",
       "  u'new': [],\n",
       "  u'ok': [],\n",
       "  u'paused': [],\n",
       "  u'queued': [],\n",
       "  u'running': [],\n",
       "  u'setting_metadata': [],\n",
       "  u'upload': []},\n",
       " u'tags': [],\n",
       " u'update_time': u'2015-07-03T17:21:19.676561',\n",
       " u'url': u'/api/histories/09e9b859888fc439',\n",
       " u'user_id': u'1c510fef372551ec',\n",
       " u'username_and_slug': None}"
      ]
     },
     "execution_count": 50,
     "metadata": {},
     "output_type": "execute_result"
    }
   ],
   "source": [
    "params = {'key': api_key}\n",
    "data = {'name': 'New history'}\n",
    "r = requests.post(base_url + '/histories', json.dumps(data), params=params, headers={'Content-Type': 'application/json'})\n",
    "new_hist = r.json()\n",
    "new_hist"
   ]
  },
  {
   "cell_type": "markdown",
   "metadata": {},
   "source": [
    "The return value of a POST request is a dictionary with detailed info about the created resource.\n",
    "\n",
    "To **update** a resource, make a PUT request, e.g. to change the history name:"
   ]
  },
  {
   "cell_type": "code",
   "execution_count": 51,
   "metadata": {
    "collapsed": false
   },
   "outputs": [
    {
     "name": "stdout",
     "output_type": "stream",
     "text": [
      "200\n"
     ]
    },
    {
     "data": {
      "text/plain": [
       "{u'annotation': None,\n",
       " u'contents_url': u'/api/histories/09e9b859888fc439/contents',\n",
       " u'create_time': u'2015-07-03T17:21:19.676537',\n",
       " u'deleted': False,\n",
       " u'empty': True,\n",
       " u'genome_build': None,\n",
       " u'id': u'09e9b859888fc439',\n",
       " u'importable': False,\n",
       " u'model_class': u'History',\n",
       " u'name': u'Updated history',\n",
       " u'published': False,\n",
       " u'purged': False,\n",
       " u'size': 0,\n",
       " u'slug': None,\n",
       " u'state': u'new',\n",
       " u'state_details': {u'discarded': 0,\n",
       "  u'empty': 0,\n",
       "  u'error': 0,\n",
       "  u'failed_metadata': 0,\n",
       "  u'new': 0,\n",
       "  u'ok': 0,\n",
       "  u'paused': 0,\n",
       "  u'queued': 0,\n",
       "  u'running': 0,\n",
       "  u'setting_metadata': 0,\n",
       "  u'upload': 0},\n",
       " u'state_ids': {u'discarded': [],\n",
       "  u'empty': [],\n",
       "  u'error': [],\n",
       "  u'failed_metadata': [],\n",
       "  u'new': [],\n",
       "  u'ok': [],\n",
       "  u'paused': [],\n",
       "  u'queued': [],\n",
       "  u'running': [],\n",
       "  u'setting_metadata': [],\n",
       "  u'upload': []},\n",
       " u'tags': [],\n",
       " u'update_time': u'2015-07-03T17:21:20.631406',\n",
       " u'url': u'/api/histories/09e9b859888fc439',\n",
       " u'user_id': u'1c510fef372551ec',\n",
       " u'username_and_slug': None}"
      ]
     },
     "execution_count": 51,
     "metadata": {},
     "output_type": "execute_result"
    }
   ],
   "source": [
    "params = {'key': api_key}\n",
    "data = {'name': 'Updated history'}\n",
    "r = requests.put(base_url + '/histories/' + new_hist['id'], json.dumps(data), params=params, headers={'Content-Type': 'application/json'})\n",
    "print(r.status_code)\n",
    "r.json()"
   ]
  },
  {
   "cell_type": "markdown",
   "metadata": {},
   "source": [
    "The return value of a PUT request is usually a dictionary with detailed info about the updated resource.\n",
    "\n",
    "Finally to **delete** a resource, make a DELETE request, e.g.:"
   ]
  },
  {
   "cell_type": "code",
   "execution_count": 52,
   "metadata": {
    "collapsed": false
   },
   "outputs": [
    {
     "name": "stdout",
     "output_type": "stream",
     "text": [
      "200\n"
     ]
    }
   ],
   "source": [
    "params = {'key': api_key}\n",
    "r = requests.delete(base_url + '/histories/' + new_hist['id'], params=params)\n",
    "print(r.status_code)"
   ]
  }
 ],
 "metadata": {
  "kernelspec": {
   "display_name": "Python 2",
   "language": "python",
   "name": "python2"
  },
  "language_info": {
   "codemirror_mode": {
    "name": "ipython",
    "version": 2
   },
   "file_extension": ".py",
   "mimetype": "text/x-python",
   "name": "python",
   "nbconvert_exporter": "python",
   "pygments_lexer": "ipython2",
   "version": "2.7.6"
  }
 },
 "nbformat": 4,
 "nbformat_minor": 0
}
