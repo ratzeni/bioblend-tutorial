{
 "cells": [
  {
   "cell_type": "markdown",
   "metadata": {
    "collapsed": true
   },
   "source": [
    "Exercise 1 - Answers for Run FASTQC Workflow\n",
    "=====================\n",
    "\n",
    "**Goal**: Upload a file to a new library, copy it in a new history, import a workflow and run it on the uploaded dataset.\n",
    "\n",
    "1) Create a `GalaxyInstance` object."
   ]
  },
  {
   "cell_type": "code",
   "execution_count": 1,
   "metadata": {
    "collapsed": true
   },
   "outputs": [],
   "source": [
    "from __future__ import print_function\n",
    "import bioblend.galaxy\n",
    "\n",
    "server = 'http://127.0.0.1:8080'\n",
    "api_key = ''\n",
    "gi = bioblend.galaxy.GalaxyInstance(url=server, key=api_key)"
   ]
  },
  {
   "cell_type": "markdown",
   "metadata": {},
   "source": [
    "2) Create a new Galaxy library."
   ]
  },
  {
   "cell_type": "code",
   "execution_count": 2,
   "metadata": {},
   "outputs": [
    {
     "data": {
      "text/plain": [
       "{u'can_user_add': True,\n",
       " u'can_user_manage': True,\n",
       " u'can_user_modify': True,\n",
       " u'create_time': u'2017-06-27T15:37:26.205475',\n",
       " u'create_time_pretty': u'2 hours ago',\n",
       " u'deleted': False,\n",
       " u'description': u'New Library for Galaxy4Developers course',\n",
       " u'id': u'f2db41e1fa331b3e',\n",
       " u'model_class': u'Library',\n",
       " u'name': u'New Library',\n",
       " u'public': True,\n",
       " u'root_folder_id': u'Ff2db41e1fa331b3e',\n",
       " u'synopsis': u''}"
      ]
     },
     "execution_count": 2,
     "metadata": {},
     "output_type": "execute_result"
    }
   ],
   "source": [
    "new_lib = gi.libraries.create_library(name='New Library', description='New Library for Galaxy4Developers course')\n",
    "new_lib"
   ]
  },
  {
   "cell_type": "markdown",
   "metadata": {},
   "source": [
    "3) Create a folder in the new library, using **libraries.create_folder()**"
   ]
  },
  {
   "cell_type": "code",
   "execution_count": 3,
   "metadata": {},
   "outputs": [
    {
     "data": {
      "text/plain": [
       "[{u'id': u'Ff597429621d6eb2b',\n",
       "  u'name': u'New Folder',\n",
       "  u'url': u'/api/libraries/f2db41e1fa331b3e/contents/Ff597429621d6eb2b'}]"
      ]
     },
     "execution_count": 3,
     "metadata": {},
     "output_type": "execute_result"
    }
   ],
   "source": [
    "new_folder = gi.libraries.create_folder(library_id=new_lib['id'], folder_name='New Folder')\n",
    "new_folder"
   ]
  },
  {
   "cell_type": "markdown",
   "metadata": {},
   "source": [
    "4) Upload a fastq file from URL='https://zenodo.org/record/61377/files/mother_R1.fq' in new folder, using ** libraries.upload_file_from_url()**"
   ]
  },
  {
   "cell_type": "code",
   "execution_count": 4,
   "metadata": {},
   "outputs": [
    {
     "data": {
      "text/plain": [
       "[{u'id': u'f2db41e1fa331b3e',\n",
       "  u'name': u'https://zenodo.org/record/61377/files/mother_R1.fq',\n",
       "  u'url': u'/api/libraries/f2db41e1fa331b3e/contents/f2db41e1fa331b3e'}]"
      ]
     },
     "execution_count": 4,
     "metadata": {},
     "output_type": "execute_result"
    }
   ],
   "source": [
    "ld = gi.libraries.upload_file_from_url(file_url='https://zenodo.org/record/61377/files/mother_R1.fq', \n",
    "                                       library_id=new_lib['id'], \n",
    "                                       folder_id=new_folder[0]['id'])\n",
    "ld"
   ]
  },
  {
   "cell_type": "markdown",
   "metadata": {},
   "source": [
    "5) Create a new Galaxy history."
   ]
  },
  {
   "cell_type": "code",
   "execution_count": 5,
   "metadata": {},
   "outputs": [
    {
     "data": {
      "text/plain": [
       "{u'annotation': None,\n",
       " u'contents_url': u'/api/histories/ebfb8f50c6abde6d/contents',\n",
       " u'create_time': u'2017-06-27T15:37:46.870202',\n",
       " u'deleted': False,\n",
       " u'empty': True,\n",
       " u'genome_build': None,\n",
       " u'id': u'ebfb8f50c6abde6d',\n",
       " u'importable': False,\n",
       " u'model_class': u'History',\n",
       " u'name': u'New history',\n",
       " u'published': False,\n",
       " u'purged': False,\n",
       " u'size': 0,\n",
       " u'slug': None,\n",
       " u'state': u'new',\n",
       " u'state_details': {u'discarded': 0,\n",
       "  u'empty': 0,\n",
       "  u'error': 0,\n",
       "  u'failed_metadata': 0,\n",
       "  u'new': 0,\n",
       "  u'ok': 0,\n",
       "  u'paused': 0,\n",
       "  u'queued': 0,\n",
       "  u'running': 0,\n",
       "  u'setting_metadata': 0,\n",
       "  u'upload': 0},\n",
       " u'state_ids': {u'discarded': [],\n",
       "  u'empty': [],\n",
       "  u'error': [],\n",
       "  u'failed_metadata': [],\n",
       "  u'new': [],\n",
       "  u'ok': [],\n",
       "  u'paused': [],\n",
       "  u'queued': [],\n",
       "  u'running': [],\n",
       "  u'setting_metadata': [],\n",
       "  u'upload': []},\n",
       " u'tags': [],\n",
       " u'update_time': u'2017-06-27T15:37:46.870237',\n",
       " u'url': u'/api/histories/ebfb8f50c6abde6d',\n",
       " u'user_id': u'f2db41e1fa331b3e',\n",
       " u'username_and_slug': None}"
      ]
     },
     "execution_count": 5,
     "metadata": {},
     "output_type": "execute_result"
    }
   ],
   "source": [
    "new_hist = gi.histories.create_history(name='New history')\n",
    "new_hist"
   ]
  },
  {
   "cell_type": "markdown",
   "metadata": {},
   "source": [
    "6) Upload the dataset 'mother_R1.fq' into the new history from the library, using **histories.upload_dataset_from_library()**"
   ]
  },
  {
   "cell_type": "code",
   "execution_count": 6,
   "metadata": {},
   "outputs": [
    {
     "data": {
      "text/plain": [
       "{u'accessible': True,\n",
       " u'annotation': None,\n",
       " u'api_type': u'file',\n",
       " u'create_time': u'2017-06-27T15:39:43.293968',\n",
       " u'creating_job': u'f2db41e1fa331b3e',\n",
       " u'data_type': u'galaxy.datatypes.sequence.Fastq',\n",
       " u'dataset_id': u'f2db41e1fa331b3e',\n",
       " u'deleted': False,\n",
       " u'display_apps': [],\n",
       " u'display_types': [],\n",
       " u'download_url': u'/api/histories/ebfb8f50c6abde6d/contents/f2db41e1fa331b3e/display',\n",
       " u'extension': u'fastq',\n",
       " u'file_ext': u'fastq',\n",
       " u'file_name': u'/Users/utente/Desktop/galaxy/database/files/000/dataset_1.dat',\n",
       " u'file_size': 444888116,\n",
       " u'genome_build': u'?',\n",
       " u'hda_ldda': u'hda',\n",
       " u'hid': 1,\n",
       " u'history_content_type': u'dataset',\n",
       " u'history_id': u'ebfb8f50c6abde6d',\n",
       " u'id': u'f2db41e1fa331b3e',\n",
       " u'meta_files': [],\n",
       " u'metadata_data_lines': None,\n",
       " u'metadata_dbkey': u'?',\n",
       " u'metadata_sequences': None,\n",
       " u'misc_blurb': u'424.3 MB',\n",
       " u'misc_info': u'uploaded fastq file',\n",
       " u'model_class': u'HistoryDatasetAssociation',\n",
       " u'name': u'https://zenodo.org/record/61377/files/mother_R1.fq',\n",
       " u'peek': u'<table cellspacing=\"0\" cellpadding=\"3\"><tr><td>@DCW97JN1:309:C0C42ACXX:5:1111:20484:3491/1</td></tr><tr><td>AACATGATATGGCTTTATGTTTCTTTCTTTGATATTTTAGATTCAGGAACTATGAGACATTATGTATTGATTTGAATGTTATTAGACCTGTAACATAATTC</td></tr><tr><td>+</td></tr><tr><td>ADCCBJ@@ACLHJGCCCBL?BCIFCAGHCCMDC=ACDC=LDCCGDLHDEHHDCLDLDHDCCC:IBDCCJDDCDMCFCMCDDCECIEFJIHBAFIDCCDCCA</td></tr><tr><td>@DCW97JN1:309:C0C42ACXX:5:1301:1076:91693/1</td></tr></table>',\n",
       " u'permissions': {u'access': [], u'manage': [u'f2db41e1fa331b3e']},\n",
       " u'purged': False,\n",
       " u'rerunnable': False,\n",
       " u'resubmitted': False,\n",
       " u'state': u'ok',\n",
       " u'tags': [],\n",
       " u'type': u'file',\n",
       " u'type_id': u'dataset-f2db41e1fa331b3e',\n",
       " u'update_time': u'2017-06-27T15:39:43.474949',\n",
       " u'url': u'/api/histories/ebfb8f50c6abde6d/contents/f2db41e1fa331b3e',\n",
       " u'uuid': u'd18fec1e-22ae-4031-b459-95da393b9dc7',\n",
       " u'visible': True,\n",
       " u'visualizations': [{u'embeddable': False,\n",
       "   u'href': u'/plugins/visualizations/charts/show?dataset_id=f2db41e1fa331b3e',\n",
       "   u'html': u'Charts',\n",
       "   u'target': u'galaxy_main'}]}"
      ]
     },
     "execution_count": 6,
     "metadata": {},
     "output_type": "execute_result"
    }
   ],
   "source": [
    "hda = gi.histories.upload_dataset_from_library(history_id=new_hist['id'], lib_dataset_id=ld[0]['id'])\n",
    "hda"
   ]
  },
  {
   "cell_type": "markdown",
   "metadata": {},
   "source": [
    "7) Import the Fastqc workflow from the local file \"~/bioblend-tutorial/test-data/FastQC.ga\" using workflows.import_workflow_from_local_path()"
   ]
  },
  {
   "cell_type": "code",
   "execution_count": 8,
   "metadata": {},
   "outputs": [
    {
     "data": {
      "text/plain": [
       "{u'deleted': False,\n",
       " u'id': u'f2db41e1fa331b3e',\n",
       " u'latest_workflow_uuid': u'fe78f0fc-5f01-4889-a657-7eeebfdcd458',\n",
       " u'model_class': u'StoredWorkflow',\n",
       " u'name': u'FastQC (imported from API)',\n",
       " u'published': False,\n",
       " u'tags': [],\n",
       " u'url': u'/api/workflows/f2db41e1fa331b3e'}"
      ]
     },
     "execution_count": 8,
     "metadata": {},
     "output_type": "execute_result"
    }
   ],
   "source": [
    "import os\n",
    "wf = gi.workflows.import_workflow_from_local_path(file_local_path=os.path.join(os.environ['PWD'],\n",
    "                                                                               'test-data/FastQC.ga'))\n",
    "wf"
   ]
  },
  {
   "cell_type": "markdown",
   "metadata": {},
   "source": [
    "\n",
    "8) View the details of the imported workflow using **workflows.show_workflow()**"
   ]
  },
  {
   "cell_type": "code",
   "execution_count": 9,
   "metadata": {
    "scrolled": true
   },
   "outputs": [
    {
     "data": {
      "text/plain": [
       "{u'annotation': u'{\"refinery_type\": \"analysis\"}',\n",
       " u'deleted': False,\n",
       " u'id': u'f2db41e1fa331b3e',\n",
       " u'inputs': {u'0': {u'label': u'Input Dataset',\n",
       "   u'uuid': u'4279c3b1-3eb2-4054-88c1-3e343cd1f5b4',\n",
       "   u'value': u''}},\n",
       " u'latest_workflow_uuid': u'fe78f0fc-5f01-4889-a657-7eeebfdcd458',\n",
       " u'model_class': u'StoredWorkflow',\n",
       " u'name': u'FastQC (imported from API)',\n",
       " u'owner': u'ratzeni',\n",
       " u'published': False,\n",
       " u'steps': {u'0': {u'annotation': None,\n",
       "   u'id': 0,\n",
       "   u'input_steps': {},\n",
       "   u'tool_id': None,\n",
       "   u'tool_inputs': {u'name': u'Input Dataset'},\n",
       "   u'tool_version': None,\n",
       "   u'type': u'data_input'},\n",
       "  u'1': {u'annotation': u'{\"html_file\": {\"name\": \"fastqc_report\", \"description\": \"HTML file containing FASTQC report.\", \"type\": \"html\"}, \"text_file\": {\"name\": \"fastqc_results\", \"description\": \"Data file containing FASTQC results.\", \"type\": \"txt\"}}',\n",
       "   u'id': 1,\n",
       "   u'input_steps': {u'input_file': {u'source_step': 0,\n",
       "     u'step_output': u'output'}},\n",
       "   u'tool_id': u'toolshed.g2.bx.psu.edu/repos/devteam/fastqc/fastqc/0.65',\n",
       "   u'tool_inputs': {u'__page__': 0,\n",
       "    u'__rerun_remap_job_id__': None,\n",
       "    u'contaminants': None,\n",
       "    u'input_file': None,\n",
       "    u'limits': None},\n",
       "   u'tool_version': u'0.69',\n",
       "   u'type': u'tool'}},\n",
       " u'tags': [],\n",
       " u'url': u'/api/workflows/f2db41e1fa331b3e'}"
      ]
     },
     "execution_count": 9,
     "metadata": {},
     "output_type": "execute_result"
    }
   ],
   "source": [
    "wf = gi.workflows.show_workflow(wf['id'])\n",
    "wf"
   ]
  },
  {
   "cell_type": "markdown",
   "metadata": {},
   "source": [
    "9) Run the imported workflow on the uploaded dataset inside the same history using **workflows.invoke_workflow()**"
   ]
  },
  {
   "cell_type": "code",
   "execution_count": 10,
   "metadata": {},
   "outputs": [
    {
     "data": {
      "text/plain": [
       "{u'history_id': u'ebfb8f50c6abde6d',\n",
       " u'id': u'f2db41e1fa331b3e',\n",
       " u'model_class': u'WorkflowInvocation',\n",
       " u'state': u'new',\n",
       " u'update_time': u'2017-06-27T15:41:51.413915',\n",
       " u'uuid': u'237c7c4f-5b4f-11e7-be38-109add646795',\n",
       " u'workflow_id': u'f2db41e1fa331b3e'}"
      ]
     },
     "execution_count": 10,
     "metadata": {},
     "output_type": "execute_result"
    }
   ],
   "source": [
    "wf_inputs = gi.workflows.get_workflow_inputs(workflow_id=wf['id'],label='Input Dataset')\n",
    "wf_inputs\n",
    "inputs = {wf_inputs[0]: {'id': hda['id'], 'src': 'hda'}}\n",
    "run = gi.workflows.invoke_workflow(workflow_id=wf['id'], inputs=inputs, history_id=new_hist['id'])\n",
    "run"
   ]
  },
  {
   "cell_type": "code",
   "execution_count": null,
   "metadata": {
    "collapsed": true
   },
   "outputs": [],
   "source": [
    ""
   ]
  }
 ],
 "metadata": {
  "kernelspec": {
   "display_name": "Python 2",
   "language": "python",
   "name": "python2"
  },
  "language_info": {
   "codemirror_mode": {
    "name": "ipython",
    "version": 2.0
   },
   "file_extension": ".py",
   "mimetype": "text/x-python",
   "name": "python",
   "nbconvert_exporter": "python",
   "pygments_lexer": "ipython2",
   "version": "2.7.9"
  }
 },
 "nbformat": 4,
 "nbformat_minor": 0
}