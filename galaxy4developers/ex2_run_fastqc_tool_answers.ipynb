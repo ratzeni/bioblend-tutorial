{
 "cells": [
  {
   "cell_type": "markdown",
   "metadata": {},
   "source": [
    "Exercise 2 - Answers for Run FASTQC Workflow    \n",
    "=========================\n",
    "**Goal**: Upload a file to a new history and run FASTQC tool.   \n",
    "\n",
    "1) Create a GalaxyInstance object."
   ]
  },
  {
   "cell_type": "code",
   "execution_count": 1,
   "metadata": {
    "collapsed": true
   },
   "outputs": [],
   "source": [
    "from __future__ import print_function\n",
    "import bioblend.galaxy\n",
    "\n",
    "server = 'http://127.0.0.1:8080'\n",
    "api_key = ''\n",
    "gi = bioblend.galaxy.GalaxyInstance(url=server, key=api_key)"
   ]
  },
  {
   "cell_type": "markdown",
   "metadata": {},
   "source": [
    "2) Create a new Galaxy history."
   ]
  },
  {
   "cell_type": "code",
   "execution_count": 2,
   "metadata": {
    "scrolled": true
   },
   "outputs": [
    {
     "data": {
      "text/plain": [
       "{u'annotation': None,\n",
       " u'contents_url': u'/api/histories/0a248a1f62a0cc04/contents',\n",
       " u'create_time': u'2017-06-30T10:58:01.866349',\n",
       " u'deleted': False,\n",
       " u'empty': True,\n",
       " u'genome_build': None,\n",
       " u'id': u'0a248a1f62a0cc04',\n",
       " u'importable': False,\n",
       " u'model_class': u'History',\n",
       " u'name': u'Ex2 history',\n",
       " u'published': False,\n",
       " u'purged': False,\n",
       " u'size': 0,\n",
       " u'slug': None,\n",
       " u'state': u'new',\n",
       " u'state_details': {u'discarded': 0,\n",
       "  u'empty': 0,\n",
       "  u'error': 0,\n",
       "  u'failed_metadata': 0,\n",
       "  u'new': 0,\n",
       "  u'ok': 0,\n",
       "  u'paused': 0,\n",
       "  u'queued': 0,\n",
       "  u'running': 0,\n",
       "  u'setting_metadata': 0,\n",
       "  u'upload': 0},\n",
       " u'state_ids': {u'discarded': [],\n",
       "  u'empty': [],\n",
       "  u'error': [],\n",
       "  u'failed_metadata': [],\n",
       "  u'new': [],\n",
       "  u'ok': [],\n",
       "  u'paused': [],\n",
       "  u'queued': [],\n",
       "  u'running': [],\n",
       "  u'setting_metadata': [],\n",
       "  u'upload': []},\n",
       " u'tags': [],\n",
       " u'update_time': u'2017-06-30T10:58:01.867163',\n",
       " u'url': u'/api/histories/0a248a1f62a0cc04',\n",
       " u'user_id': u'f2db41e1fa331b3e',\n",
       " u'username_and_slug': None}"
      ]
     },
     "execution_count": 2,
     "metadata": {},
     "output_type": "execute_result"
    }
   ],
   "source": [
    "new_hist = gi.histories.create_history(name='Ex2 history')\n",
    "new_hist"
   ]
  },
  {
   "cell_type": "markdown",
   "metadata": {},
   "source": [
    "3) Upload a Fastq file from local path ('/home/utente/zenodo/father_R1.fq') into the new history, using tools.upload_file()"
   ]
  },
  {
   "cell_type": "code",
   "execution_count": 3,
   "metadata": {},
   "outputs": [
    {
     "data": {
      "text/plain": [
       "{u'implicit_collections': [],\n",
       " u'jobs': [{u'create_time': u'2017-06-30T10:59:22.880483',\n",
       "   u'exit_code': None,\n",
       "   u'id': u'df7a1f0c02a5b08e',\n",
       "   u'model_class': u'Job',\n",
       "   u'state': u'new',\n",
       "   u'tool_id': u'upload1',\n",
       "   u'update_time': u'2017-06-30T10:59:23.394914'}],\n",
       " u'output_collections': [],\n",
       " u'outputs': [{u'create_time': u'2017-06-30T10:59:21.288707',\n",
       "   u'data_type': u'galaxy.datatypes.data.Data',\n",
       "   u'deleted': False,\n",
       "   u'file_ext': u'auto',\n",
       "   u'file_size': 0,\n",
       "   u'genome_build': u'?',\n",
       "   u'hda_ldda': u'hda',\n",
       "   u'hid': 1,\n",
       "   u'history_content_type': u'dataset',\n",
       "   u'history_id': u'0a248a1f62a0cc04',\n",
       "   u'id': u'03501d7626bd192f',\n",
       "   u'metadata_dbkey': u'?',\n",
       "   u'misc_blurb': None,\n",
       "   u'misc_info': None,\n",
       "   u'model_class': u'HistoryDatasetAssociation',\n",
       "   u'name': u'father_R1.fq',\n",
       "   u'output_name': u'output0',\n",
       "   u'peek': u'<table cellspacing=\"0\" cellpadding=\"3\"></table>',\n",
       "   u'purged': False,\n",
       "   u'state': u'queued',\n",
       "   u'tags': [],\n",
       "   u'update_time': u'2017-06-30T10:59:22.059678',\n",
       "   u'uuid': u'a498b607-d0ac-4f8a-8b4d-9f127fdbcd32',\n",
       "   u'visible': True}]}"
      ]
     },
     "execution_count": 3,
     "metadata": {},
     "output_type": "execute_result"
    }
   ],
   "source": [
    "hda = gi.tools.upload_file(path='/home/utente/zenodo/father_R1.fq',history_id=new_hist['id'])\n",
    "hda"
   ]
  },
  {
   "cell_type": "markdown",
   "metadata": {},
   "source": [
    "4) Run FastQC tool, following this steps\n",
    "    - search FastQC tool, using tools.get_tools\n",
    "    - get FastQC tool, using tools.show_tool\n",
    "    - show conten's history (to get dataset id), using hstories.show_history() with content=True\n",
    "    - run tool, using tools.run_tools() "
   ]
  },
  {
   "cell_type": "code",
   "execution_count": 4,
   "metadata": {},
   "outputs": [
    {
     "data": {
      "text/plain": [
       "[{u'config_file': u'/Users/utente/Desktop/shed_tools/toolshed.g2.bx.psu.edu/repos/devteam/fastqc/9337dd1fbc66/fastqc/rgFastQC.xml',\n",
       "  u'description': u'Read Quality reports',\n",
       "  u'edam_operations': [],\n",
       "  u'edam_topics': [],\n",
       "  u'form_style': u'regular',\n",
       "  u'id': u'toolshed.g2.bx.psu.edu/repos/devteam/fastqc/fastqc/0.69',\n",
       "  u'labels': [],\n",
       "  u'link': u'/tool_runner?tool_id=toolshed.g2.bx.psu.edu%2Frepos%2Fdevteam%2Ffastqc%2Ffastqc%2F0.69',\n",
       "  u'min_width': -1,\n",
       "  u'model_class': u'Tool',\n",
       "  u'name': u'FastQC',\n",
       "  u'panel_section_id': u'galaxy4developers',\n",
       "  u'panel_section_name': u'Galaxy4Developers',\n",
       "  u'target': u'galaxy_main',\n",
       "  u'tool_shed_repository': {u'changeset_revision': u'9337dd1fbc66',\n",
       "   u'name': u'fastqc',\n",
       "   u'owner': u'devteam',\n",
       "   u'tool_shed': u'toolshed.g2.bx.psu.edu'},\n",
       "  u'version': u'0.69'}]"
      ]
     },
     "execution_count": 4,
     "metadata": {},
     "output_type": "execute_result"
    }
   ],
   "source": [
    "# search FastQC tool\n",
    "tools = gi.tools.get_tools(name='FastQC')\n",
    "tools"
   ]
  },
  {
   "cell_type": "code",
   "execution_count": 5,
   "metadata": {},
   "outputs": [
    {
     "data": {
      "text/plain": [
       "{u'config_file': u'/Users/utente/Desktop/shed_tools/toolshed.g2.bx.psu.edu/repos/devteam/fastqc/9337dd1fbc66/fastqc/rgFastQC.xml',\n",
       " u'description': u'Read Quality reports',\n",
       " u'edam_operations': [],\n",
       " u'edam_topics': [],\n",
       " u'form_style': u'regular',\n",
       " u'id': u'toolshed.g2.bx.psu.edu/repos/devteam/fastqc/fastqc/0.69',\n",
       " u'inputs': [{u'argument': None,\n",
       "   u'edam': {u'edam_data': [u'data_2044',\n",
       "     u'data_2044',\n",
       "     u'data_2044',\n",
       "     u'data_0863',\n",
       "     u'data_0863'],\n",
       "    u'edam_formats': [u'format_1930',\n",
       "     u'format_1930',\n",
       "     u'format_1930',\n",
       "     u'format_2572',\n",
       "     u'format_2573']},\n",
       "   u'extensions': [u'fastq', u'fastq.gz', u'fastq.bz2', u'bam', u'sam'],\n",
       "   u'help': u'',\n",
       "   u'hidden': False,\n",
       "   u'is_dynamic': False,\n",
       "   u'label': u'Short read data from your current history',\n",
       "   u'model_class': u'DataToolParameter',\n",
       "   u'multiple': False,\n",
       "   u'name': u'input_file',\n",
       "   u'optional': False,\n",
       "   u'options': {u'hda': [], u'hdca': []},\n",
       "   u'refresh_on_change': True,\n",
       "   u'type': u'data',\n",
       "   u'value': None},\n",
       "  {u'argument': None,\n",
       "   u'edam': {u'edam_data': [u'data_0006'], u'edam_formats': [u'format_3475']},\n",
       "   u'extensions': [u'tabular'],\n",
       "   u'help': u'tab delimited file with 2 columns: name and sequence.  For example: Illumina Small RNA RT Primer CAAGCAGAAGACGGCATACGA',\n",
       "   u'hidden': False,\n",
       "   u'is_dynamic': False,\n",
       "   u'label': u'Contaminant list',\n",
       "   u'model_class': u'DataToolParameter',\n",
       "   u'multiple': False,\n",
       "   u'name': u'contaminants',\n",
       "   u'optional': True,\n",
       "   u'options': {u'hda': [], u'hdca': []},\n",
       "   u'refresh_on_change': True,\n",
       "   u'type': u'data',\n",
       "   u'value': None},\n",
       "  {u'argument': None,\n",
       "   u'edam': {u'edam_data': [u'data_0006'], u'edam_formats': [u'format_2330']},\n",
       "   u'extensions': [u'txt'],\n",
       "   u'help': u'a file that specifies which submodules are to be executed (default=all) and also specifies the thresholds for the each submodules warning parameter',\n",
       "   u'hidden': False,\n",
       "   u'is_dynamic': False,\n",
       "   u'label': u'Submodule and Limit specifing file',\n",
       "   u'model_class': u'DataToolParameter',\n",
       "   u'multiple': False,\n",
       "   u'name': u'limits',\n",
       "   u'optional': True,\n",
       "   u'options': {u'hda': [], u'hdca': []},\n",
       "   u'refresh_on_change': True,\n",
       "   u'type': u'data',\n",
       "   u'value': None}],\n",
       " u'labels': [],\n",
       " u'model_class': u'Tool',\n",
       " u'name': u'FastQC',\n",
       " u'outputs': [{u'edam_data': u'data_0006',\n",
       "   u'edam_format': u'format_2331',\n",
       "   u'format': u'html',\n",
       "   u'hidden': False,\n",
       "   u'label': u'${tool.name} on ${on_string}: Webpage',\n",
       "   u'model_class': u'ToolOutput',\n",
       "   u'name': u'html_file'},\n",
       "  {u'edam_data': u'data_0006',\n",
       "   u'edam_format': u'format_2330',\n",
       "   u'format': u'txt',\n",
       "   u'hidden': False,\n",
       "   u'label': u'${tool.name} on ${on_string}: RawData',\n",
       "   u'model_class': u'ToolOutput',\n",
       "   u'name': u'text_file'}],\n",
       " u'panel_section_id': u'galaxy4developers',\n",
       " u'panel_section_name': u'Galaxy4Developers',\n",
       " u'tool_shed_repository': {u'changeset_revision': u'9337dd1fbc66',\n",
       "  u'name': u'fastqc',\n",
       "  u'owner': u'devteam',\n",
       "  u'tool_shed': u'toolshed.g2.bx.psu.edu'},\n",
       " u'version': u'0.69'}"
      ]
     },
     "execution_count": 5,
     "metadata": {},
     "output_type": "execute_result"
    }
   ],
   "source": [
    "# get FastQC tool\n",
    "fastqc_tool = gi.tools.show_tool(tool_id=tools[0]['id'],io_details=True,)\n",
    "fastqc_tool"
   ]
  },
  {
   "cell_type": "code",
   "execution_count": 6,
   "metadata": {},
   "outputs": [
    {
     "data": {
      "text/plain": [
       "[{u'create_time': u'2017-06-30T10:59:21.288707',\n",
       "  u'dataset_id': u'03501d7626bd192f',\n",
       "  u'deleted': False,\n",
       "  u'extension': u'auto',\n",
       "  u'hid': 1,\n",
       "  u'history_content_type': u'dataset',\n",
       "  u'history_id': u'0a248a1f62a0cc04',\n",
       "  u'id': u'03501d7626bd192f',\n",
       "  u'name': u'father_R1.fq',\n",
       "  u'purged': False,\n",
       "  u'state': u'running',\n",
       "  u'tags': [],\n",
       "  u'type': u'file',\n",
       "  u'type_id': u'dataset-03501d7626bd192f',\n",
       "  u'update_time': u'2017-06-30T10:59:22.059678',\n",
       "  u'url': u'/api/histories/0a248a1f62a0cc04/contents/03501d7626bd192f',\n",
       "  u'visible': True}]"
      ]
     },
     "execution_count": 6,
     "metadata": {},
     "output_type": "execute_result"
    }
   ],
   "source": [
    "# show conten's history\n",
    "content = gi.histories.show_history(history_id=new_hist['id'], contents=True)\n",
    "content"
   ]
  },
  {
   "cell_type": "code",
   "execution_count": 9,
   "metadata": {},
   "outputs": [
    {
     "data": {
      "text/plain": [
       "{u'implicit_collections': [],\n",
       " u'jobs': [{u'create_time': u'2017-06-30T11:01:00.331776',\n",
       "   u'exit_code': None,\n",
       "   u'id': u'0a248a1f62a0cc04',\n",
       "   u'model_class': u'Job',\n",
       "   u'state': u'new',\n",
       "   u'tool_id': u'toolshed.g2.bx.psu.edu/repos/devteam/fastqc/fastqc/0.69',\n",
       "   u'update_time': u'2017-06-30T11:01:00.331785'}],\n",
       " u'output_collections': [],\n",
       " u'outputs': [{u'create_time': u'2017-06-30T11:00:59.484898',\n",
       "   u'data_type': u'galaxy.datatypes.text.Html',\n",
       "   u'deleted': False,\n",
       "   u'file_ext': u'html',\n",
       "   u'file_size': 0,\n",
       "   u'genome_build': u'?',\n",
       "   u'hda_ldda': u'hda',\n",
       "   u'hid': 2,\n",
       "   u'history_content_type': u'dataset',\n",
       "   u'history_id': u'0a248a1f62a0cc04',\n",
       "   u'id': u'3f5830403180d620',\n",
       "   u'metadata_data_lines': None,\n",
       "   u'metadata_dbkey': u'?',\n",
       "   u'misc_blurb': u'queued',\n",
       "   u'misc_info': None,\n",
       "   u'model_class': u'HistoryDatasetAssociation',\n",
       "   u'name': u'FastQC on data 1: Webpage',\n",
       "   u'output_name': u'html_file',\n",
       "   u'peek': u'<table cellspacing=\"0\" cellpadding=\"3\"><tr><td>HTML file</td></tr></table>',\n",
       "   u'purged': False,\n",
       "   u'state': u'new',\n",
       "   u'tags': [],\n",
       "   u'update_time': u'2017-06-30T11:01:00.329719',\n",
       "   u'uuid': u'6237eaf0-d05d-49dc-99f8-14ff73d7b32a',\n",
       "   u'visible': True},\n",
       "  {u'create_time': u'2017-06-30T11:00:59.525033',\n",
       "   u'data_type': u'galaxy.datatypes.data.Text',\n",
       "   u'deleted': False,\n",
       "   u'file_ext': u'txt',\n",
       "   u'file_size': 0,\n",
       "   u'genome_build': u'?',\n",
       "   u'hda_ldda': u'hda',\n",
       "   u'hid': 3,\n",
       "   u'history_content_type': u'dataset',\n",
       "   u'history_id': u'0a248a1f62a0cc04',\n",
       "   u'id': u'e85a3be143d5905b',\n",
       "   u'metadata_data_lines': None,\n",
       "   u'metadata_dbkey': u'?',\n",
       "   u'misc_blurb': u'queued',\n",
       "   u'misc_info': None,\n",
       "   u'model_class': u'HistoryDatasetAssociation',\n",
       "   u'name': u'FastQC on data 1: RawData',\n",
       "   u'output_name': u'text_file',\n",
       "   u'peek': u'<table cellspacing=\"0\" cellpadding=\"3\"></table>',\n",
       "   u'purged': False,\n",
       "   u'state': u'new',\n",
       "   u'tags': [],\n",
       "   u'update_time': u'2017-06-30T11:01:00.330212',\n",
       "   u'uuid': u'3bbd8045-d6ff-44f1-8983-1c7919936b13',\n",
       "   u'visible': True}]}"
      ]
     },
     "execution_count": 9,
     "metadata": {},
     "output_type": "execute_result"
    }
   ],
   "source": [
    "# run tool \n",
    "tool_inputs={'input': content[0]['dataset_id']}\n",
    "gi.tools.run_tool(history_id=new_hist['id'], tool_id=fastqc_tool['id'], tool_inputs=tool_inputs)"
   ]
  },
  {
   "cell_type": "code",
   "execution_count": null,
   "metadata": {
    "collapsed": true
   },
   "outputs": [],
   "source": [
    ""
   ]
  },
  {
   "cell_type": "code",
   "execution_count": null,
   "metadata": {
    "collapsed": true
   },
   "outputs": [],
   "source": [
    ""
   ]
  }
 ],
 "metadata": {
  "kernelspec": {
   "display_name": "Python 2",
   "language": "python",
   "name": "python2"
  },
  "language_info": {
   "codemirror_mode": {
    "name": "ipython",
    "version": 2.0
   },
   "file_extension": ".py",
   "mimetype": "text/x-python",
   "name": "python",
   "nbconvert_exporter": "python",
   "pygments_lexer": "ipython2",
   "version": "2.7.9"
  }
 },
 "nbformat": 4,
 "nbformat_minor": 0
}