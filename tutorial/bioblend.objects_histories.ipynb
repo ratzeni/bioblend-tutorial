{
 "cells": [
  {
   "cell_type": "markdown",
   "metadata": {},
   "source": [
    "Interacting with histories in BioBlend.objects\n",
    "==============================================\n",
    "\n",
    "**You need to insert the API key for your Galaxy server in the cell below**: open the Galaxy server in another browser tab, click on \"User\" on the top menu, then \"API Keys\". Generate an API key if needed, then copy the alphanumeric string and paste it below.\n",
    "\n",
    "The user interacts with a Galaxy server through a `GalaxyInstance` object:"
   ]
  },
  {
   "cell_type": "code",
   "execution_count": 2,
   "metadata": {
    "collapsed": false
   },
   "outputs": [],
   "source": [
    "from __future__ import print_function\n",
    "import bioblend.galaxy.objects\n",
    "\n",
    "server = 'https://usegalaxy.org/'\n",
    "api_key = ''\n",
    "gi = bioblend.galaxy.objects.GalaxyInstance(url=server, api_key=api_key)"
   ]
  },
  {
   "cell_type": "markdown",
   "metadata": {},
   "source": [
    "All `GalaxyInstance` method calls have the `client.method()` format, where `client` is the name of the resources you dealing with. There are 2 methods to get the list of resources:\n",
    " - `get_previews()`: lightweight (one GET request), retrieves basic resources' info, returns a list of **preview** objects\n",
    " - `list()`: one GET request for each resource, retrieves full resources' info, returns a list of **full** objects."
   ]
  },
  {
   "cell_type": "code",
   "execution_count": 3,
   "metadata": {
    "collapsed": false
   },
   "outputs": [
    {
     "data": {
      "text/plain": [
       "[HistoryPreview({u'name': u'New history', u'tags': [], u'deleted': False, u'id': u'effec70bec8ba12c', u'url': u'/api/histories/effec70bec8ba12c', u'published': False, u'model_class': u'History', u'annotation': None, u'purged': False}),\n",
       " HistoryPreview({u'name': u'New history', u'tags': [], u'deleted': False, u'id': u'8cd498c51d25e1f0', u'url': u'/api/histories/8cd498c51d25e1f0', u'published': False, u'model_class': u'History', u'annotation': None, u'purged': False}),\n",
       " HistoryPreview({u'name': u'New history', u'tags': [], u'deleted': False, u'id': u'd6c3d171b0753878', u'url': u'/api/histories/d6c3d171b0753878', u'published': False, u'model_class': u'History', u'annotation': None, u'purged': False}),\n",
       " HistoryPreview({u'name': u'New history', u'tags': [], u'deleted': False, u'id': u'0521d53a59c0259c', u'url': u'/api/histories/0521d53a59c0259c', u'published': False, u'model_class': u'History', u'annotation': None, u'purged': False}),\n",
       " HistoryPreview({u'name': u'Unnamed history', u'tags': [], u'deleted': False, u'id': u'153e591de2140b59', u'url': u'/api/histories/153e591de2140b59', u'published': False, u'model_class': u'History', u'annotation': None, u'purged': False}),\n",
       " HistoryPreview({u'name': u'Unnamed history', u'tags': [], u'deleted': False, u'id': u'49e446c3d6585583', u'url': u'/api/histories/49e446c3d6585583', u'published': False, u'model_class': u'History', u'annotation': None, u'purged': False})]"
      ]
     },
     "execution_count": 3,
     "metadata": {},
     "output_type": "execute_result"
    }
   ],
   "source": [
    "gi.histories.get_previews()"
   ]
  },
  {
   "cell_type": "markdown",
   "metadata": {},
   "source": [
    "Both methods usually have **filtering** capabilities, e.g. it is possible to filter histories **by name**:"
   ]
  },
  {
   "cell_type": "code",
   "execution_count": 4,
   "metadata": {
    "collapsed": false
   },
   "outputs": [
    {
     "data": {
      "text/plain": [
       "[History({u'importable': False, u'create_time': u'2015-06-19T10:02:53.969620', u'contents_url': u'/api/histories/153e591de2140b59/contents', u'id': u'153e591de2140b59', u'size': 80893, u'user_id': u'1c510fef372551ec', u'username_and_slug': None, u'annotation': None, u'state_details': {u'paused': 0, u'ok': 6, u'failed_metadata': 0, u'upload': 0, u'discarded': 0, u'running': 0, u'setting_metadata': 0, u'error': 0, u'new': 0, u'queued': 0, u'empty': 0}, u'state': u'ok', u'empty': False, u'update_time': u'2015-07-01T16:27:18.060202', u'tags': [], u'deleted': False, u'genome_build': u'?', u'slug': None, u'name': u'Unnamed history', u'url': u'/api/histories/153e591de2140b59', u'state_ids': {u'paused': [], u'ok': [u'bbd44e69cb8906b58bced975c2813624', u'bbd44e69cb8906b5e70457408d04ea9c', u'bbd44e69cb8906b54464058dd429113b', u'bbd44e69cb8906b5bb650cc20ae31cc8', u'bbd44e69cb8906b5427605befaf4407c', u'bbd44e69cb8906b5a2008f9a7bd2edbf', u'bbd44e69cb8906b52acca9e2b703814a', u'bbd44e69cb8906b5060fbdde4edab91d'], u'failed_metadata': [], u'upload': [], u'discarded': [], u'running': [], u'setting_metadata': [], u'error': [u'bbd44e69cb8906b503f45dc50d66b283'], u'new': [], u'queued': [], u'empty': []}, u'published': False, u'model_class': u'History', u'purged': False}),\n",
       " History({u'importable': False, u'create_time': u'2014-04-23T18:59:44.757056', u'contents_url': u'/api/histories/49e446c3d6585583/contents', u'id': u'49e446c3d6585583', u'size': 333684, u'user_id': u'1c510fef372551ec', u'username_and_slug': None, u'annotation': None, u'state_details': {u'paused': 0, u'ok': 6, u'failed_metadata': 0, u'upload': 0, u'discarded': 0, u'running': 0, u'setting_metadata': 0, u'error': 2, u'new': 0, u'queued': 0, u'empty': 0}, u'state': u'error', u'empty': False, u'update_time': u'2015-05-13T15:44:15.224305', u'tags': [], u'deleted': False, u'genome_build': u'hg18', u'slug': None, u'name': u'Unnamed history', u'url': u'/api/histories/49e446c3d6585583', u'state_ids': {u'paused': [], u'ok': [u'bbd44e69cb8906b587d276b6c7932c34', u'bbd44e69cb8906b500721557698884a7', u'bbd44e69cb8906b5ca5ddfdeaa01ea12', u'bbd44e69cb8906b575994c98c9f45cdd', u'bbd44e69cb8906b527821d60cf2edf28', u'bbd44e69cb8906b5a024ad7890fb4428'], u'failed_metadata': [], u'upload': [], u'discarded': [], u'running': [], u'setting_metadata': [], u'error': [u'bbd44e69cb8906b5c27ab2a2828bc54c', u'bbd44e69cb8906b5b99a266beee1693f'], u'new': [], u'queued': [], u'empty': []}, u'published': False, u'model_class': u'History', u'purged': False})]"
      ]
     },
     "execution_count": 4,
     "metadata": {},
     "output_type": "execute_result"
    }
   ],
   "source": [
    "hists = gi.histories.list(name='Unnamed history')\n",
    "hists"
   ]
  },
  {
   "cell_type": "markdown",
   "metadata": {},
   "source": [
    "Both `HistoryPreview` and `History` objects have many of their properties available as attributes, e.g. the id.\n",
    "\n",
    "If you need to specify the unique **id** of the resource to retrieve, you can use the `get()` method:"
   ]
  },
  {
   "cell_type": "code",
   "execution_count": 8,
   "metadata": {
    "collapsed": false
   },
   "outputs": [
    {
     "name": "stdout",
     "output_type": "stream",
     "text": [
      "153e591de2140b59\n"
     ]
    },
    {
     "data": {
      "text/plain": [
       "History({u'importable': False, u'create_time': u'2015-06-19T10:02:53.969620', u'contents_url': u'/api/histories/153e591de2140b59/contents', u'id': u'153e591de2140b59', u'size': 80893, u'user_id': u'1c510fef372551ec', u'username_and_slug': None, u'annotation': None, u'state_details': {u'paused': 0, u'ok': 6, u'failed_metadata': 0, u'upload': 0, u'discarded': 0, u'running': 0, u'setting_metadata': 0, u'error': 0, u'new': 0, u'queued': 0, u'empty': 0}, u'state': u'ok', u'empty': False, u'update_time': u'2015-07-01T16:27:18.060202', u'tags': [], u'deleted': False, u'genome_build': u'?', u'slug': None, u'name': u'Unnamed history', u'url': u'/api/histories/153e591de2140b59', u'state_ids': {u'paused': [], u'ok': [u'bbd44e69cb8906b58bced975c2813624', u'bbd44e69cb8906b5e70457408d04ea9c', u'bbd44e69cb8906b54464058dd429113b', u'bbd44e69cb8906b5bb650cc20ae31cc8', u'bbd44e69cb8906b5427605befaf4407c', u'bbd44e69cb8906b5a2008f9a7bd2edbf', u'bbd44e69cb8906b52acca9e2b703814a', u'bbd44e69cb8906b5060fbdde4edab91d'], u'failed_metadata': [], u'upload': [], u'discarded': [], u'running': [], u'setting_metadata': [], u'error': [u'bbd44e69cb8906b503f45dc50d66b283'], u'new': [], u'queued': [], u'empty': []}, u'published': False, u'model_class': u'History', u'purged': False})"
      ]
     },
     "execution_count": 8,
     "metadata": {},
     "output_type": "execute_result"
    }
   ],
   "source": [
    "hist0_id = hists[0].id\n",
    "print(hist0_id)\n",
    "h = gi.histories.get(hist0_id)\n",
    "h"
   ]
  },
  {
   "cell_type": "markdown",
   "metadata": {},
   "source": [
    "To get the list of **datasets contained** in a history, simply look at the `content_infos` attribute of the `History` objects."
   ]
  },
  {
   "cell_type": "code",
   "execution_count": 10,
   "metadata": {
    "collapsed": false
   },
   "outputs": [
    {
     "data": {
      "text/plain": [
       "[HistoryContentInfo({u'history_content_type': u'dataset', u'name': u'bwa-mem-fastq1.fq', u'extension': u'fastqsanger', u'type_id': u'dataset-bbd44e69cb8906b58bced975c2813624', u'deleted': False, u'history_id': u'153e591de2140b59', u'id': u'bbd44e69cb8906b58bced975c2813624', u'visible': True, u'state': u'ok', u'hid': 1, u'url': u'/api/histories/153e591de2140b59/contents/bbd44e69cb8906b58bced975c2813624', u'dataset_id': u'bbd44e69cb8906b58136996268e6636d', u'type': u'file', u'purged': False}),\n",
       " HistoryContentInfo({u'history_content_type': u'dataset', u'name': u'FASTQ to FASTA on data 1', u'extension': u'fasta', u'type_id': u'dataset-bbd44e69cb8906b5e70457408d04ea9c', u'deleted': False, u'history_id': u'153e591de2140b59', u'id': u'bbd44e69cb8906b5e70457408d04ea9c', u'visible': True, u'state': u'ok', u'hid': 2, u'url': u'/api/histories/153e591de2140b59/contents/bbd44e69cb8906b5e70457408d04ea9c', u'dataset_id': u'bbd44e69cb8906b599a64556dc6d4e4d', u'type': u'file', u'purged': False}),\n",
       " HistoryContentInfo({u'history_content_type': u'dataset', u'name': u'Lastz on data 2: mapped reads', u'extension': u'sam', u'type_id': u'dataset-bbd44e69cb8906b503f45dc50d66b283', u'deleted': True, u'history_id': u'153e591de2140b59', u'id': u'bbd44e69cb8906b503f45dc50d66b283', u'visible': True, u'state': u'error', u'hid': 3, u'url': u'/api/histories/153e591de2140b59/contents/bbd44e69cb8906b503f45dc50d66b283', u'dataset_id': u'bbd44e69cb8906b5572646db41e7e4be', u'type': u'file', u'purged': False}),\n",
       " HistoryContentInfo({u'history_content_type': u'dataset', u'name': u'Pasted Entry', u'extension': u'txt', u'type_id': u'dataset-bbd44e69cb8906b54464058dd429113b', u'deleted': False, u'history_id': u'153e591de2140b59', u'id': u'bbd44e69cb8906b54464058dd429113b', u'visible': True, u'state': u'ok', u'hid': 4, u'url': u'/api/histories/153e591de2140b59/contents/bbd44e69cb8906b54464058dd429113b', u'dataset_id': u'bbd44e69cb8906b51955ad7891ba686d', u'type': u'file', u'purged': False}),\n",
       " HistoryContentInfo({u'history_content_type': u'dataset', u'name': u'Pasted Entry', u'extension': u'txt', u'type_id': u'dataset-bbd44e69cb8906b5bb650cc20ae31cc8', u'deleted': False, u'history_id': u'153e591de2140b59', u'id': u'bbd44e69cb8906b5bb650cc20ae31cc8', u'visible': True, u'state': u'ok', u'hid': 5, u'url': u'/api/histories/153e591de2140b59/contents/bbd44e69cb8906b5bb650cc20ae31cc8', u'dataset_id': u'bbd44e69cb8906b51e4bfaf36b8ee3b9', u'type': u'file', u'purged': False}),\n",
       " HistoryContentInfo({u'history_content_type': u'dataset', u'name': u'Paste on data 4 and data 5', u'extension': u'data', u'type_id': u'dataset-bbd44e69cb8906b5427605befaf4407c', u'deleted': True, u'history_id': u'153e591de2140b59', u'id': u'bbd44e69cb8906b5427605befaf4407c', u'visible': True, u'state': u'ok', u'hid': 6, u'url': u'/api/histories/153e591de2140b59/contents/bbd44e69cb8906b5427605befaf4407c', u'dataset_id': u'bbd44e69cb8906b588328f98768ba3ed', u'type': u'file', u'purged': False}),\n",
       " HistoryContentInfo({u'history_content_type': u'dataset', u'name': u'Paste on data 4 and data 5', u'extension': u'data', u'type_id': u'dataset-bbd44e69cb8906b5a2008f9a7bd2edbf', u'deleted': True, u'history_id': u'153e591de2140b59', u'id': u'bbd44e69cb8906b5a2008f9a7bd2edbf', u'visible': True, u'state': u'ok', u'hid': 7, u'url': u'/api/histories/153e591de2140b59/contents/bbd44e69cb8906b5a2008f9a7bd2edbf', u'dataset_id': u'bbd44e69cb8906b5e824950874f3d884', u'type': u'file', u'purged': False}),\n",
       " HistoryContentInfo({u'history_content_type': u'dataset', u'name': u'Paste on data 4 and data 5', u'extension': u'txt', u'type_id': u'dataset-bbd44e69cb8906b52acca9e2b703814a', u'deleted': False, u'history_id': u'153e591de2140b59', u'id': u'bbd44e69cb8906b52acca9e2b703814a', u'visible': True, u'state': u'ok', u'hid': 8, u'url': u'/api/histories/153e591de2140b59/contents/bbd44e69cb8906b52acca9e2b703814a', u'dataset_id': u'bbd44e69cb8906b5b9f8bd60f895f497', u'type': u'file', u'purged': False}),\n",
       " HistoryContentInfo({u'history_content_type': u'dataset', u'name': u'Paste on data 4 and data 5', u'extension': u'txt', u'type_id': u'dataset-bbd44e69cb8906b5060fbdde4edab91d', u'deleted': False, u'history_id': u'153e591de2140b59', u'id': u'bbd44e69cb8906b5060fbdde4edab91d', u'visible': True, u'state': u'ok', u'hid': 9, u'url': u'/api/histories/153e591de2140b59/contents/bbd44e69cb8906b5060fbdde4edab91d', u'dataset_id': u'bbd44e69cb8906b575eb1f74b3bcd8fd', u'type': u'file', u'purged': False})]"
      ]
     },
     "execution_count": 10,
     "metadata": {},
     "output_type": "execute_result"
    }
   ],
   "source": [
    "hdas = h.content_infos\n",
    "hdas"
   ]
  },
  {
   "cell_type": "markdown",
   "metadata": {},
   "source": [
    "To get the details about one dataset, you can use the `get_dataset()` method of `History` objects:"
   ]
  },
  {
   "cell_type": "code",
   "execution_count": 11,
   "metadata": {
    "collapsed": false
   },
   "outputs": [
    {
     "name": "stdout",
     "output_type": "stream",
     "text": [
      "bbd44e69cb8906b58bced975c2813624\n"
     ]
    },
    {
     "data": {
      "text/plain": [
       "HistoryDatasetAssociation({u'accessible': True, u'type_id': u'dataset-bbd44e69cb8906b58bced975c2813624', u'resubmitted': False, u'create_time': u'2015-06-23T14:35:29.832099', u'metadata_sequences': 100, u'file_size': 55247, u'dataset_id': u'bbd44e69cb8906b58136996268e6636d', u'id': u'bbd44e69cb8906b58bced975c2813624', u'misc_info': u'uploaded fastq file', u'hda_ldda': u'hda', u'download_url': u'/api/histories/153e591de2140b59/contents/bbd44e69cb8906b58bced975c2813624/display', u'state': u'ok', u'display_types': [], u'display_apps': [], u'metadata_dbkey': u'?', u'type': u'file', u'misc_blurb': u'100 sequences', u'peek': u'<table cellspacing=\"0\" cellpadding=\"3\"><tr><td>@M01368:8:000000000-A3GHV:1:1101:6911:8255/1</td></tr><tr><td>ATCTGGTTCCTACTTCAGGGCCATAAAACCTAAATAGCCCACACGTTCCCCTTAAATAAGACATCACGATGGATCACAGGTCTATCACCCTATTAACCACTCACGGGAGCTCTCCATGCATTTGGTATTTTCGTCTGGGGGGTGTGCACGCGATAGCATTGCGAGACGCTGGAGCCGGAGCACCCTATGTCGCAGTATCTGTCTTTGATTCCTGCCTCATCCTATTATTTATCGCACCTACGTTCAATATT</td></tr><tr><td>+</td></tr><tr><td>BCCCCFFFFFFFGGGGGGGGGGGHHHHGHGHHHHHHHHHGGGGGGHHHHGHHHHHHHHHHGHHHHHHGGHGGHHHGHHHHFHHGHHHHHHHHHGHEHEFFGHHEGGCEFGGFHHHBGHHGHHHHGHFHHHGHGHGHGGCDFDDACGGGGGGGAAFFFFFFFFFBAFFFFFB;FFFFFFADDFFFFFFFFFFEFFFFFFFFFFBFFFFFFFFFFFFFFEFFFFFFFFBFEFFFFEFE;DFFFDFBFF/9BFB</td></tr><tr><td>@M01368:8:000000000-A3GHV:1:1101:14518:9998/1</td></tr><tr><td>GTTATTATTATGTCCTACAAGCATTAATTAATTAACACACTTTAGTAAGTATGTTCGCCTGTAATATTGAACGTAGGTGCGATAAATAATAGGATGAGGCAGGAATCAAAGACAGATACTGCGACATAGGGTGCTCCGGCTCCAGCGTCTCGCAATGCTATCGCGTGCACACCCCCCAGACGAAAATACCAAATGCATGGAGAGCTCCCGTGAGTGGTTAATAGGGGGATAGACCTGTGATCCATCGTGAT</td></tr></table>', u'update_time': u'2015-06-23T14:40:51.433550', u'data_type': u'galaxy.datatypes.sequence.FastqSanger', u'tags': [], u'deleted': False, u'history_id': u'153e591de2140b59', u'meta_files': [], u'genome_build': u'?', u'hid': 1, u'model_class': u'HistoryDatasetAssociation', u'metadata_data_lines': 400, u'file_ext': u'fastqsanger', u'annotation': None, u'permissions': {}, u'history_content_type': u'dataset', u'name': u'bwa-mem-fastq1.fq', u'extension': u'fastqsanger', u'visible': True, u'url': u'/api/histories/153e591de2140b59/contents/bbd44e69cb8906b58bced975c2813624', u'uuid': u'b7f0a37f-0134-4925-83ce-2bef7f394ce6', u'visualizations': [], u'purged': False, u'api_type': u'file'})"
      ]
     },
     "execution_count": 11,
     "metadata": {},
     "output_type": "execute_result"
    }
   ],
   "source": [
    "hda0_id = hdas[0].id\n",
    "print(hda0_id)\n",
    "h.get_dataset(hda0_id)"
   ]
  },
  {
   "cell_type": "markdown",
   "metadata": {},
   "source": [
    "You can also filter history datasets by name using the `get_datasets()` method of `History` objects.\n",
    "\n",
    "**New resources** are created with `create()` methods, e.g. to create a new history:"
   ]
  },
  {
   "cell_type": "code",
   "execution_count": 12,
   "metadata": {
    "collapsed": false
   },
   "outputs": [
    {
     "data": {
      "text/plain": [
       "History({u'importable': False, u'create_time': u'2015-07-02T19:17:02.400206', u'contents_url': u'/api/histories/83ea16e551232e52/contents', u'id': u'83ea16e551232e52', u'size': 0, u'user_id': u'1c510fef372551ec', u'username_and_slug': None, u'annotation': None, u'state_details': {u'paused': 0, u'ok': 0, u'failed_metadata': 0, u'upload': 0, u'discarded': 0, u'running': 0, u'setting_metadata': 0, u'error': 0, u'new': 0, u'queued': 0, u'empty': 0}, u'state': u'new', u'empty': True, u'update_time': u'2015-07-02T19:17:02.400225', u'tags': [], u'deleted': False, u'genome_build': None, u'slug': None, u'name': u'New history', u'url': u'/api/histories/83ea16e551232e52', u'state_ids': {u'paused': [], u'ok': [], u'failed_metadata': [], u'upload': [], u'discarded': [], u'running': [], u'setting_metadata': [], u'error': [], u'new': [], u'queued': [], u'empty': []}, u'published': False, u'model_class': u'History', u'purged': False})"
      ]
     },
     "execution_count": 12,
     "metadata": {},
     "output_type": "execute_result"
    }
   ],
   "source": [
    "new_hist = gi.histories.create(name='New history')\n",
    "new_hist"
   ]
  },
  {
   "cell_type": "markdown",
   "metadata": {},
   "source": [
    "As you can see, the `create()` methods in BioBlend.objects returns an object, not a dictionary.\n",
    "\n",
    "To **update** a resource, use the `update()` method of its object, e.g. to change the history name:"
   ]
  },
  {
   "cell_type": "code",
   "execution_count": 13,
   "metadata": {
    "collapsed": false
   },
   "outputs": [
    {
     "data": {
      "text/plain": [
       "History({u'importable': False, u'create_time': u'2015-07-02T19:17:02.400206', u'contents_url': u'/api/histories/83ea16e551232e52/contents', u'id': u'83ea16e551232e52', u'size': 0, u'user_id': u'1c510fef372551ec', u'username_and_slug': None, u'annotation': None, u'state_details': {u'discarded': 0, u'ok': 0, u'failed_metadata': 0, u'upload': 0, u'paused': 0, u'running': 0, u'setting_metadata': 0, u'error': 0, u'new': 0, u'queued': 0, u'empty': 0}, u'state': u'new', u'empty': True, u'update_time': u'2015-07-02T19:20:04.039550', u'tags': [], u'deleted': False, u'genome_build': None, u'slug': None, u'name': u'Updated history', u'url': u'/api/histories/83ea16e551232e52', u'state_ids': {u'discarded': [], u'ok': [], u'failed_metadata': [], u'upload': [], u'paused': [], u'running': [], u'setting_metadata': [], u'error': [], u'new': [], u'queued': [], u'empty': []}, u'published': False, u'model_class': u'History', u'purged': False})"
      ]
     },
     "execution_count": 13,
     "metadata": {},
     "output_type": "execute_result"
    }
   ],
   "source": [
    "new_hist.update(name='Updated history')"
   ]
  },
  {
   "cell_type": "markdown",
   "metadata": {},
   "source": [
    "The return value of `update()` methods is the updated object.\n",
    "\n",
    "Finally to **delete** a resource, you can use the `delete()` method of the object, e.g.:"
   ]
  },
  {
   "cell_type": "code",
   "execution_count": 14,
   "metadata": {
    "collapsed": false
   },
   "outputs": [],
   "source": [
    "new_hist.delete()"
   ]
  }
 ],
 "metadata": {
  "kernelspec": {
   "display_name": "Python 2",
   "language": "python",
   "name": "python2"
  },
  "language_info": {
   "codemirror_mode": {
    "name": "ipython",
    "version": 2
   },
   "file_extension": ".py",
   "mimetype": "text/x-python",
   "name": "python",
   "nbconvert_exporter": "python",
   "pygments_lexer": "ipython2",
   "version": "2.7.6"
  }
 },
 "nbformat": 4,
 "nbformat_minor": 0
}
