{
 "cells": [
  {
   "cell_type": "markdown",
   "metadata": {
    "collapsed": true
   },
   "source": [
    "Exercise 1 - Answers for Run FASTQC Workflow\n",
    "=====================\n",
    "\n",
    "**Goal**: Upload a file to a new library, copy it in a new history, import a workflow and run it on the uploaded dataset.\n",
    "\n",
    "1) Create a `GalaxyInstance` object."
   ]
  },
  {
   "cell_type": "code",
   "execution_count": 1,
   "metadata": {
    "collapsed": true
   },
   "outputs": [],
   "source": [
    "from __future__ import print_function\n",
    "import bioblend.galaxy\n",
    "\n",
    "server = 'http://127.0.0.1:8080'\n",
    "api_key = '1be8b57d4ff24c5c1e680e2af9e7002b'\n",
    "gi = bioblend.galaxy.GalaxyInstance(url=server, key=api_key)"
   ]
  },
  {
   "cell_type": "markdown",
   "metadata": {},
   "source": [
    "2) Create a new Galaxy library."
   ]
  },
  {
   "cell_type": "code",
   "execution_count": 2,
   "metadata": {},
   "outputs": [
    {
     "data": {
      "text/plain": [
       "{u'can_user_add': True,\n",
       " u'can_user_manage': True,\n",
       " u'can_user_modify': True,\n",
       " u'create_time': u'2017-06-27T13:49:15.322310',\n",
       " u'create_time_pretty': u'2 hours ago',\n",
       " u'deleted': False,\n",
       " u'description': u'New Library for Galaxy4Developers course',\n",
       " u'id': u'f2db41e1fa331b3e',\n",
       " u'model_class': u'Library',\n",
       " u'name': u'New Library',\n",
       " u'public': True,\n",
       " u'root_folder_id': u'Ff2db41e1fa331b3e',\n",
       " u'synopsis': u''}"
      ]
     },
     "execution_count": 2,
     "metadata": {},
     "output_type": "execute_result"
    }
   ],
   "source": [
    "new_lib = gi.libraries.create_library(name='New Library', description='New Library for Galaxy4Developers course')\n",
    "new_lib"
   ]
  },
  {
   "cell_type": "markdown",
   "metadata": {},
   "source": [
    "3) Create a folder in the new library, using **libraries.create_folder()**"
   ]
  },
  {
   "cell_type": "code",
   "execution_count": 3,
   "metadata": {},
   "outputs": [
    {
     "data": {
      "text/plain": [
       "[{u'id': u'Ff597429621d6eb2b',\n",
       "  u'name': u'New Folder',\n",
       "  u'url': u'/api/libraries/f2db41e1fa331b3e/contents/Ff597429621d6eb2b'}]"
      ]
     },
     "execution_count": 3,
     "metadata": {},
     "output_type": "execute_result"
    }
   ],
   "source": [
    "new_folder = gi.libraries.create_folder(library_id=new_lib['id'], folder_name='New Folder')\n",
    "new_folder"
   ]
  },
  {
   "cell_type": "markdown",
   "metadata": {},
   "source": [
    "4) Upload a fastq file from URL='https://zenodo.org/record/61377/files/mother_R1.fq' in new folder, using ** libraries.upload_file_from_url()**"
   ]
  },
  {
   "cell_type": "code",
   "execution_count": 6,
   "metadata": {},
   "outputs": [
    {
     "data": {
      "text/plain": [
       "[{u'id': u'f2db41e1fa331b3e',\n",
       "  u'name': u'https://zenodo.org/record/61377/files/mother_R1.fq',\n",
       "  u'url': u'/api/libraries/f2db41e1fa331b3e/contents/f2db41e1fa331b3e'}]"
      ]
     },
     "execution_count": 6,
     "metadata": {},
     "output_type": "execute_result"
    }
   ],
   "source": [
    "ld = gi.libraries.upload_file_from_url(file_url='https://zenodo.org/record/61377/files/mother_R1.fq', \n",
    "                                       library_id=new_lib['id'], \n",
    "                                       folder_id=new_folder[0]['id'])\n",
    "ld"
   ]
  },
  {
   "cell_type": "markdown",
   "metadata": {},
   "source": [
    "5) Create a new Galaxy history."
   ]
  },
  {
   "cell_type": "code",
   "execution_count": 7,
   "metadata": {},
   "outputs": [
    {
     "data": {
      "text/plain": [
       "{u'annotation': None,\n",
       " u'contents_url': u'/api/histories/1cd8e2f6b131e891/contents',\n",
       " u'create_time': u'2017-06-27T13:51:27.999757',\n",
       " u'deleted': False,\n",
       " u'empty': True,\n",
       " u'genome_build': None,\n",
       " u'id': u'1cd8e2f6b131e891',\n",
       " u'importable': False,\n",
       " u'model_class': u'History',\n",
       " u'name': u'New history',\n",
       " u'published': False,\n",
       " u'purged': False,\n",
       " u'size': 0,\n",
       " u'slug': None,\n",
       " u'state': u'new',\n",
       " u'state_details': {u'discarded': 0,\n",
       "  u'empty': 0,\n",
       "  u'error': 0,\n",
       "  u'failed_metadata': 0,\n",
       "  u'new': 0,\n",
       "  u'ok': 0,\n",
       "  u'paused': 0,\n",
       "  u'queued': 0,\n",
       "  u'running': 0,\n",
       "  u'setting_metadata': 0,\n",
       "  u'upload': 0},\n",
       " u'state_ids': {u'discarded': [],\n",
       "  u'empty': [],\n",
       "  u'error': [],\n",
       "  u'failed_metadata': [],\n",
       "  u'new': [],\n",
       "  u'ok': [],\n",
       "  u'paused': [],\n",
       "  u'queued': [],\n",
       "  u'running': [],\n",
       "  u'setting_metadata': [],\n",
       "  u'upload': []},\n",
       " u'tags': [],\n",
       " u'update_time': u'2017-06-27T13:51:27.999782',\n",
       " u'url': u'/api/histories/1cd8e2f6b131e891',\n",
       " u'user_id': u'f2db41e1fa331b3e',\n",
       " u'username_and_slug': None}"
      ]
     },
     "execution_count": 7,
     "metadata": {},
     "output_type": "execute_result"
    }
   ],
   "source": [
    "new_hist = gi.histories.create_history(name='New history')\n",
    "new_hist"
   ]
  },
  {
   "cell_type": "markdown",
   "metadata": {},
   "source": [
    "6) Upload the dataset 'mother_R1.fq' into the new history from the library, using **histories.upload_dataset_from_library()**"
   ]
  },
  {
   "cell_type": "code",
   "execution_count": 9,
   "metadata": {},
   "outputs": [],
   "source": [
    "hda = gi.histories.upload_dataset_from_library(history_id=new_hist['id'], lib_dataset_id=ld[0]['id'])\n",
    "hda"
   ]
  },
  {
   "cell_type": "markdown",
   "metadata": {},
   "source": [
    "7) Import the Fastqc workflow from the local file \"~/bioblend-tutorial/test-data/FastQC.ga\" using workflows.import_workflow_from_local_path()"
   ]
  },
  {
   "cell_type": "code",
   "execution_count": 11,
   "metadata": {},
   "outputs": [
    {
     "data": {
      "text/plain": [
       "{u'deleted': False,\n",
       " u'id': u'f2db41e1fa331b3e',\n",
       " u'latest_workflow_uuid': u'6bc0a1f1-2af0-48ff-82c1-6fe4edd917fb',\n",
       " u'model_class': u'StoredWorkflow',\n",
       " u'name': u'FastQC (imported from API)',\n",
       " u'published': False,\n",
       " u'tags': [],\n",
       " u'url': u'/api/workflows/f2db41e1fa331b3e'}"
      ]
     },
     "execution_count": 11,
     "metadata": {},
     "output_type": "execute_result"
    }
   ],
   "source": [
    "import os\n",
    "wf = gi.workflows.import_workflow_from_local_path(file_local_path=os.path.join(os.environ['PWD'],\n",
    "                                                                               'test-data/FastQC.ga'))\n",
    "wf"
   ]
  },
  {
   "cell_type": "markdown",
   "metadata": {},
   "source": [
    "\n",
    "8) View the details of the imported workflow using **workflows.show_workflow()**"
   ]
  },
  {
   "cell_type": "code",
   "execution_count": 12,
   "metadata": {},
   "outputs": [
    {
     "data": {
      "text/plain": [
       "{u'annotation': u'{\"refinery_type\": \"analysis\"}',\n",
       " u'deleted': False,\n",
       " u'id': u'f2db41e1fa331b3e',\n",
       " u'inputs': {u'0': {u'label': u'Input Dataset',\n",
       "   u'uuid': u'a32a09e7-340b-47e1-a45a-191f94d1e429',\n",
       "   u'value': u''}},\n",
       " u'latest_workflow_uuid': u'6bc0a1f1-2af0-48ff-82c1-6fe4edd917fb',\n",
       " u'model_class': u'StoredWorkflow',\n",
       " u'name': u'FastQC (imported from API)',\n",
       " u'owner': u'ratzeni',\n",
       " u'published': False,\n",
       " u'steps': {u'0': {u'annotation': None,\n",
       "   u'id': 0,\n",
       "   u'input_steps': {},\n",
       "   u'tool_id': None,\n",
       "   u'tool_inputs': {u'name': u'Input Dataset'},\n",
       "   u'tool_version': None,\n",
       "   u'type': u'data_input'},\n",
       "  u'1': {u'annotation': u'{\"html_file\": {\"name\": \"fastqc_report\", \"description\": \"HTML file containing FASTQC report.\", \"type\": \"html\"}, \"text_file\": {\"name\": \"fastqc_results\", \"description\": \"Data file containing FASTQC results.\", \"type\": \"txt\"}}',\n",
       "   u'id': 1,\n",
       "   u'input_steps': {u'input_file': {u'source_step': 0,\n",
       "     u'step_output': u'output'}},\n",
       "   u'tool_id': u'toolshed.g2.bx.psu.edu/repos/devteam/fastqc/fastqc/0.65',\n",
       "   u'tool_inputs': {u'__page__': 0,\n",
       "    u'__rerun_remap_job_id__': None,\n",
       "    u'contaminants': None,\n",
       "    u'input_file': None,\n",
       "    u'limits': None},\n",
       "   u'tool_version': u'0.69',\n",
       "   u'type': u'tool'}},\n",
       " u'tags': [],\n",
       " u'url': u'/api/workflows/f2db41e1fa331b3e'}"
      ]
     },
     "execution_count": 12,
     "metadata": {},
     "output_type": "execute_result"
    }
   ],
   "source": [
    "wf = gi.workflows.show_workflow(wf['id'])\n",
    "wf"
   ]
  },
  {
   "cell_type": "markdown",
   "metadata": {},
   "source": [
    "9) Run the imported workflow on the uploaded dataset inside the same history using **workflows.invoke_workflow()**"
   ]
  },
  {
   "cell_type": "code",
   "execution_count": 13,
   "metadata": {},
   "outputs": [
    {
     "data": {
      "text/plain": [
       "{u'history_id': u'ebfb8f50c6abde6d',\n",
       " u'id': u'f2db41e1fa331b3e',\n",
       " u'model_class': u'WorkflowInvocation',\n",
       " u'state': u'new',\n",
       " u'update_time': u'2017-06-27T13:53:12.382865',\n",
       " u'uuid': u'f5d60fa8-5b3f-11e7-9900-109add646795',\n",
       " u'workflow_id': u'f2db41e1fa331b3e'}"
      ]
     },
     "execution_count": 13,
     "metadata": {},
     "output_type": "execute_result"
    }
   ],
   "source": [
    "wf_inputs = gi.workflows.get_workflow_inputs(workflow_id=wf['id'],label='Input Dataset')\n",
    "wf_inputs\n",
    "inputs = {wf_inputs[0]: {'id': hda['id'], 'src': 'hda'}}\n",
    "run = gi.workflows.invoke_workflow(workflow_id=wf['id'], inputs=inputs)\n",
    "run"
   ]
  },
  {
   "cell_type": "code",
   "execution_count": null,
   "metadata": {
    "collapsed": true
   },
   "outputs": [],
   "source": [
    ""
   ]
  }
 ],
 "metadata": {
  "kernelspec": {
   "display_name": "Python 2",
   "language": "python",
   "name": "python2"
  },
  "language_info": {
   "codemirror_mode": {
    "name": "ipython",
    "version": 2.0
   },
   "file_extension": ".py",
   "mimetype": "text/x-python",
   "name": "python",
   "nbconvert_exporter": "python",
   "pygments_lexer": "ipython2",
   "version": "2.7.9"
  }
 },
 "nbformat": 4,
 "nbformat_minor": 0
}